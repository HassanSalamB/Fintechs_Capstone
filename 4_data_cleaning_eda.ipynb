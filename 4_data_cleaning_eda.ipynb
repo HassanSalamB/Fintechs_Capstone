{
 "cells": [
  {
   "cell_type": "markdown",
   "metadata": {},
   "source": [
    "# Data Cleaning"
   ]
  },
  {
   "cell_type": "markdown",
   "metadata": {},
   "source": [
    "## Import libraries"
   ]
  },
  {
   "cell_type": "code",
   "execution_count": 1,
   "metadata": {},
   "outputs": [],
   "source": [
    "import pandas as pd\n",
    "from scripts.helper import reduce_mem_usage\n",
    "from datetime import datetime\n",
    "import glob\n",
    "import numpy as np\n",
    "from scripts.helper import reduce_mem_usage, load_df\n",
    "pd.set_option(\"display.max_columns\", 120)\n",
    "import seaborn as sns\n",
    "from pycaret.regression import *\n",
    "from pycaret.utils import check_metric\n",
    "from pycaret.datasets import get_data\n",
    "import pickle\n",
    "from sklearn import preprocessing"
   ]
  },
  {
   "source": [
    "## Importing Datasets"
   ],
   "cell_type": "markdown",
   "metadata": {}
  },
  {
   "cell_type": "code",
   "execution_count": 2,
   "metadata": {},
   "outputs": [],
   "source": [
    "dataset = pd.read_csv('data/shrunk_train_v2.csv', index_col=[0])\n",
    "dataset_test = pd.read_csv('data/shrunk_test_v2.csv', index_col=[0])"
   ]
  },
  {
   "cell_type": "markdown",
   "metadata": {},
   "source": [
    "## Replaceing missing values"
   ]
  },
  {
   "cell_type": "code",
   "execution_count": 6,
   "metadata": {},
   "outputs": [
    {
     "data": {
      "text/plain": [
       "channelGrouping                     0\n",
       "date                                0\n",
       "fullVisitorId                       0\n",
       "visitId                             0\n",
       "visitNumber                         0\n",
       "visitStartTime                      0\n",
       "device.browser                      0\n",
       "device.deviceCategory               0\n",
       "device.isMobile                     0\n",
       "device.operatingSystem              0\n",
       "geoNetwork.city                     0\n",
       "geoNetwork.continent                0\n",
       "geoNetwork.country                  0\n",
       "geoNetwork.metro                    0\n",
       "geoNetwork.networkDomain            0\n",
       "geoNetwork.region                   0\n",
       "geoNetwork.subContinent             0\n",
       "totals.bounces                 836759\n",
       "totals.hits                         0\n",
       "totals.newVisits               400907\n",
       "totals.pageviews                  239\n",
       "totals.transactionRevenue     1689823\n",
       "trafficSource.adContent       1643600\n",
       "trafficSource.campaign              0\n",
       "trafficSource.isTrueDirect    1173819\n",
       "trafficSource.keyword         1052780\n",
       "trafficSource.medium                0\n",
       "trafficSource.referralPath    1142073\n",
       "trafficSource.source                0\n",
       "dtype: int64"
      ]
     },
     "execution_count": 6,
     "metadata": {},
     "output_type": "execute_result"
    }
   ],
   "source": [
    "dataset.isnull().sum()"
   ]
  },
  {
   "cell_type": "code",
   "execution_count": null,
   "metadata": {},
   "outputs": [],
   "source": [
    "dataset.fillna({'totals.transactionRevenue': 0, \"trafficSource.referralPath\" : \"(not provided)\",\n",
    "          'totals.bounces': 0, 'totals.newVisits': 0, \"totals.pageviews\" : \"1\",\n",
    "          'trafficSource.isTrueDirect': False, \n",
    "          'trafficSource.adContent': 'None',\n",
    "            'trafficSource.keyword': '(not provided)'}, inplace=True)\n",
    "\n",
    "\n",
    "dataset_test.fillna({'totals.transactionRevenue': 0, \"trafficSource.referralPath\" : \"(not provided)\",\n",
    "          'totals.bounces': 0, 'totals.newVisits': 0, \"totals.pageviews\" : \"1\",\n",
    "          'trafficSource.isTrueDirect': False, \n",
    "          'trafficSource.adContent': 'None',\n",
    "            'trafficSource.keyword': '(not provided)'}, inplace=True)"
   ]
  },
  {
   "cell_type": "markdown",
   "metadata": {},
   "source": [
    "## Droping not important features"
   ]
  },
  {
   "cell_type": "code",
   "execution_count": 7,
   "metadata": {},
   "outputs": [],
   "source": [
    "dataset= dataset.drop('geoNetwork.metro', axis = 1) # Too many missing values.\n",
    "\n",
    "dataset= dataset.drop('geoNetwork.continent', axis = 1) # Too many missing values.\n",
    "dataset= dataset.drop('geoNetwork.subContinent', axis = 1) # Too many missing values.\n",
    "dataset= dataset.drop('device.deviceCategory', axis = 1) # similar colmun as \"device.isMobile\".\n",
    "\n",
    "\n",
    "dataset_test= dataset_test.drop('geoNetwork.metro', axis = 1) # Too many missing values.\n",
    "\n",
    "dataset_test= dataset_test.drop('geoNetwork.continent', axis = 1) # Too many missing values.\n",
    "\n",
    "dataset_test= dataset_test.drop('geoNetwork.subContinent', axis = 1) # Too many missing values.\n",
    "\n",
    "dataset_test= dataset_test.drop('device.deviceCategory', axis = 1) # similar colmun as \"device.isMobile\"."
   ]
  },
  {
   "cell_type": "markdown",
   "metadata": {},
   "source": [
    "## Export data"
   ]
  },
  {
   "cell_type": "code",
   "execution_count": 9,
   "metadata": {},
   "outputs": [],
   "source": [
    "# Save data to a new .csv file\n",
    "path = 'data/cleaned_train_v2.csv'\n",
    "dataset.to_csv(path)"
   ]
  },
  {
   "cell_type": "code",
   "execution_count": 10,
   "metadata": {},
   "outputs": [],
   "source": [
    "# Save data to a new .csv file\n",
    "path1 = 'data/cleaned_test_v2.csv'\n",
    "dataset_test.to_csv(path1)"
   ]
  },
  {
   "cell_type": "markdown",
   "metadata": {},
   "source": [
    "# Baseline Model"
   ]
  },
  {
   "source": [
    "## Dealing with PISOX time"
   ],
   "cell_type": "markdown",
   "metadata": {}
  },
  {
   "cell_type": "code",
   "execution_count": 11,
   "metadata": {},
   "outputs": [],
   "source": [
    "# Converting POSIX data from visiStartTime column and replace it in date column\n",
    "dataset['date'] = pd.to_datetime(dataset['visitStartTime'], unit='s').dt.strftime('%Y-%m-%d')\n",
    "dataset = dataset.drop('visitStartTime', axis=1)\n",
    "\n",
    "dataset_test['date'] = pd.to_datetime(dataset_test['visitStartTime'], unit='s').dt.strftime('%Y-%m-%d')\n",
    "dataset_test = dataset_test.drop('visitStartTime', axis=1)"
   ]
  },
  {
   "cell_type": "code",
   "execution_count": 12,
   "metadata": {},
   "outputs": [
    {
     "data": {
      "text/plain": [
       "channelGrouping                object\n",
       "date                           object\n",
       "fullVisitorId                  object\n",
       "visitId                         int64\n",
       "visitNumber                     int64\n",
       "device.browser                 object\n",
       "device.isMobile                 int64\n",
       "device.operatingSystem         object\n",
       "geoNetwork.city                object\n",
       "geoNetwork.country             object\n",
       "geoNetwork.networkDomain       object\n",
       "geoNetwork.region              object\n",
       "totals.bounces                float64\n",
       "totals.hits                     int64\n",
       "totals.newVisits              float64\n",
       "totals.pageviews               object\n",
       "totals.transactionRevenue     float64\n",
       "trafficSource.adContent        object\n",
       "trafficSource.campaign         object\n",
       "trafficSource.isTrueDirect       bool\n",
       "trafficSource.keyword          object\n",
       "trafficSource.medium           object\n",
       "trafficSource.referralPath     object\n",
       "trafficSource.source           object\n",
       "dtype: object"
      ]
     },
     "execution_count": 12,
     "metadata": {},
     "output_type": "execute_result"
    }
   ],
   "source": [
    "dataset.dtypes"
   ]
  },
  {
   "cell_type": "markdown",
   "metadata": {},
   "source": [
    "## Categorical Columns"
   ]
  },
  {
   "cell_type": "code",
   "execution_count": 13,
   "metadata": {},
   "outputs": [],
   "source": [
    "categorical_cols = list()\n",
    "for i in dataset.columns:\n",
    "    if (dataset[i].dtype=='object' or dataset[i].dtype=='bool') and (not(i.startswith('total'))):\n",
    "        categorical_cols.append(i)"
   ]
  },
  {
   "cell_type": "code",
   "execution_count": 14,
   "metadata": {},
   "outputs": [],
   "source": [
    "categorical_cols.remove('fullVisitorId')"
   ]
  },
  {
   "cell_type": "code",
   "execution_count": 15,
   "metadata": {},
   "outputs": [
    {
     "data": {
      "text/plain": [
       "['channelGrouping',\n",
       " 'date',\n",
       " 'device.browser',\n",
       " 'device.operatingSystem',\n",
       " 'geoNetwork.city',\n",
       " 'geoNetwork.country',\n",
       " 'geoNetwork.networkDomain',\n",
       " 'geoNetwork.region',\n",
       " 'trafficSource.adContent',\n",
       " 'trafficSource.campaign',\n",
       " 'trafficSource.isTrueDirect',\n",
       " 'trafficSource.keyword',\n",
       " 'trafficSource.medium',\n",
       " 'trafficSource.referralPath',\n",
       " 'trafficSource.source']"
      ]
     },
     "execution_count": 15,
     "metadata": {},
     "output_type": "execute_result"
    }
   ],
   "source": [
    "categorical_cols"
   ]
  },
  {
   "cell_type": "markdown",
   "metadata": {},
   "source": [
    "## Numerical Columns"
   ]
  },
  {
   "cell_type": "code",
   "execution_count": 16,
   "metadata": {},
   "outputs": [],
   "source": [
    "numerical_cols = list()\n",
    "for i in dataset.columns:\n",
    "    if dataset[i].dtype not in ['object', 'bool']:\n",
    "        numerical_cols.append(i)"
   ]
  },
  {
   "cell_type": "code",
   "execution_count": 17,
   "metadata": {},
   "outputs": [],
   "source": [
    "numerical_cols.remove('visitId')"
   ]
  },
  {
   "cell_type": "code",
   "execution_count": 18,
   "metadata": {},
   "outputs": [],
   "source": [
    "numerical_cols.remove('totals.transactionRevenue')"
   ]
  },
  {
   "cell_type": "code",
   "execution_count": 19,
   "metadata": {},
   "outputs": [
    {
     "data": {
      "text/plain": [
       "['visitNumber',\n",
       " 'device.isMobile',\n",
       " 'totals.bounces',\n",
       " 'totals.hits',\n",
       " 'totals.newVisits']"
      ]
     },
     "execution_count": 19,
     "metadata": {},
     "output_type": "execute_result"
    }
   ],
   "source": [
    "numerical_cols"
   ]
  },
  {
   "cell_type": "markdown",
   "metadata": {},
   "source": [
    "## Label Encoding"
   ]
  },
  {
   "cell_type": "code",
   "execution_count": 20,
   "metadata": {},
   "outputs": [
    {
     "name": "stdout",
     "output_type": "stream",
     "text": [
      "for this feature : channelGrouping label-encoding was done succesfully\n",
      "for this feature : date label-encoding was done succesfully\n",
      "for this feature : device.browser label-encoding was done succesfully\n",
      "for this feature : device.operatingSystem label-encoding was done succesfully\n",
      "for this feature : geoNetwork.city label-encoding was done succesfully\n",
      "for this feature : geoNetwork.country label-encoding was done succesfully\n",
      "for this feature : geoNetwork.networkDomain label-encoding was done succesfully\n",
      "for this feature : geoNetwork.region label-encoding was done succesfully\n",
      "for this feature : trafficSource.adContent label-encoding was done succesfully\n",
      "for this feature : trafficSource.campaign label-encoding was done succesfully\n",
      "for this feature : trafficSource.isTrueDirect label-encoding was done succesfully\n",
      "for this feature : trafficSource.keyword label-encoding was done succesfully\n",
      "for this feature : trafficSource.medium label-encoding was done succesfully\n",
      "for this feature : trafficSource.referralPath label-encoding was done succesfully\n",
      "for this feature : trafficSource.source label-encoding was done succesfully\n",
      "Duration: 0:04:55.156635\n"
     ]
    }
   ],
   "source": [
    "start_time = datetime.now()\n",
    "# Listing categorical features in a variable and changing it to float.\n",
    "for feature in categorical_cols:\n",
    "    label_encoder = preprocessing.LabelEncoder() # initializing        label encoder object\n",
    "    label_encoder.fit(list(dataset[feature].values.astype('str')) + list(dataset_test[feature].values.astype('str')))\n",
    "\n",
    "# fit with list of variables in that feature\n",
    "    dataset[feature] = label_encoder.transform(list(dataset[feature].values.astype('str'))) \n",
    "    dataset_test[feature] = label_encoder.transform(list(dataset_test[feature].values.astype('str'))) \n",
    "\n",
    "# transforming that feature\n",
    "    print(\"for this feature : {0} label-encoding was done succesfully\".format(feature))\n",
    "end_time = datetime.now()\n",
    "print('Duration: {}'.format(end_time - start_time))"
   ]
  },
  {
   "cell_type": "markdown",
   "metadata": {},
   "source": [
    "## Create Targets and Features"
   ]
  },
  {
   "cell_type": "code",
   "execution_count": 21,
   "metadata": {},
   "outputs": [],
   "source": [
    "# Create target for classification model\n",
    "reg_train = dataset[categorical_cols+numerical_cols]\n",
    "reg_train['Target'] = dataset['totals.transactionRevenue']\n",
    "reg_test = dataset_test[categorical_cols+numerical_cols]\n",
    "reg_test['Target'] = dataset_test['totals.transactionRevenue']"
   ]
  },
  {
   "cell_type": "code",
   "execution_count": 22,
   "metadata": {},
   "outputs": [],
   "source": [
    "totals_transactionRevenue_zero = reg_train[reg_train['Target'] == 0].sample(frac=0.3, random_state=10)\n",
    "totals_transactionRevenue_nonzero = reg_train[reg_train['Target'] != 0]\n",
    "reg_train = pd.concat([totals_transactionRevenue_zero, totals_transactionRevenue_nonzero], axis=0)"
   ]
  },
  {
   "cell_type": "code",
   "execution_count": 23,
   "metadata": {},
   "outputs": [],
   "source": [
    "reg_train[\"Target\"] = reg_train[\"Target\"].apply(np.log1p)\n",
    "reg_test[\"Target\"] = reg_test[\"Target\"].apply(np.log1p)"
   ]
  },
  {
   "cell_type": "markdown",
   "metadata": {},
   "source": [
    "## Regression Modeling"
   ]
  },
  {
   "cell_type": "code",
   "execution_count": 24,
   "metadata": {},
   "outputs": [
    {
     "name": "stdout",
     "output_type": "stream",
     "text": [
      "Data for Modeling: (525461, 21)\n",
      "Unseen Data For Predictions: (401589, 21)\n"
     ]
    }
   ],
   "source": [
    "data_unseen = reg_test\n",
    "#data.reset_index(inplace=True, drop=True)\n",
    "#data_unseen.reset_index(inplace=True, drop=True)\n",
    "print('Data for Modeling: ' + str(reg_train.shape))\n",
    "print('Unseen Data For Predictions: ' + str(data_unseen.shape))"
   ]
  },
  {
   "source": [
    "### Setup for Pycaret"
   ],
   "cell_type": "markdown",
   "metadata": {}
  },
  {
   "cell_type": "code",
   "execution_count": 25,
   "metadata": {},
   "outputs": [
    {
     "data": {
      "text/html": [
       "<style  type=\"text/css\" >\n",
       "</style><table id=\"T_f81c6_\" ><thead>    <tr>        <th class=\"blank level0\" ></th>        <th class=\"col_heading level0 col0\" >Description</th>        <th class=\"col_heading level0 col1\" >Value</th>    </tr></thead><tbody>\n",
       "                <tr>\n",
       "                        <th id=\"T_f81c6_level0_row0\" class=\"row_heading level0 row0\" >0</th>\n",
       "                        <td id=\"T_f81c6_row0_col0\" class=\"data row0 col0\" >session_id</td>\n",
       "                        <td id=\"T_f81c6_row0_col1\" class=\"data row0 col1\" >123</td>\n",
       "            </tr>\n",
       "            <tr>\n",
       "                        <th id=\"T_f81c6_level0_row1\" class=\"row_heading level0 row1\" >1</th>\n",
       "                        <td id=\"T_f81c6_row1_col0\" class=\"data row1 col0\" >Target</td>\n",
       "                        <td id=\"T_f81c6_row1_col1\" class=\"data row1 col1\" >Target</td>\n",
       "            </tr>\n",
       "            <tr>\n",
       "                        <th id=\"T_f81c6_level0_row2\" class=\"row_heading level0 row2\" >2</th>\n",
       "                        <td id=\"T_f81c6_row2_col0\" class=\"data row2 col0\" >Original Data</td>\n",
       "                        <td id=\"T_f81c6_row2_col1\" class=\"data row2 col1\" >(525461, 21)</td>\n",
       "            </tr>\n",
       "            <tr>\n",
       "                        <th id=\"T_f81c6_level0_row3\" class=\"row_heading level0 row3\" >3</th>\n",
       "                        <td id=\"T_f81c6_row3_col0\" class=\"data row3 col0\" >Missing Values</td>\n",
       "                        <td id=\"T_f81c6_row3_col1\" class=\"data row3 col1\" >False</td>\n",
       "            </tr>\n",
       "            <tr>\n",
       "                        <th id=\"T_f81c6_level0_row4\" class=\"row_heading level0 row4\" >4</th>\n",
       "                        <td id=\"T_f81c6_row4_col0\" class=\"data row4 col0\" >Numeric Features</td>\n",
       "                        <td id=\"T_f81c6_row4_col1\" class=\"data row4 col1\" >20</td>\n",
       "            </tr>\n",
       "            <tr>\n",
       "                        <th id=\"T_f81c6_level0_row5\" class=\"row_heading level0 row5\" >5</th>\n",
       "                        <td id=\"T_f81c6_row5_col0\" class=\"data row5 col0\" >Categorical Features</td>\n",
       "                        <td id=\"T_f81c6_row5_col1\" class=\"data row5 col1\" >0</td>\n",
       "            </tr>\n",
       "            <tr>\n",
       "                        <th id=\"T_f81c6_level0_row6\" class=\"row_heading level0 row6\" >6</th>\n",
       "                        <td id=\"T_f81c6_row6_col0\" class=\"data row6 col0\" >Ordinal Features</td>\n",
       "                        <td id=\"T_f81c6_row6_col1\" class=\"data row6 col1\" >False</td>\n",
       "            </tr>\n",
       "            <tr>\n",
       "                        <th id=\"T_f81c6_level0_row7\" class=\"row_heading level0 row7\" >7</th>\n",
       "                        <td id=\"T_f81c6_row7_col0\" class=\"data row7 col0\" >High Cardinality Features</td>\n",
       "                        <td id=\"T_f81c6_row7_col1\" class=\"data row7 col1\" >False</td>\n",
       "            </tr>\n",
       "            <tr>\n",
       "                        <th id=\"T_f81c6_level0_row8\" class=\"row_heading level0 row8\" >8</th>\n",
       "                        <td id=\"T_f81c6_row8_col0\" class=\"data row8 col0\" >High Cardinality Method</td>\n",
       "                        <td id=\"T_f81c6_row8_col1\" class=\"data row8 col1\" >None</td>\n",
       "            </tr>\n",
       "            <tr>\n",
       "                        <th id=\"T_f81c6_level0_row9\" class=\"row_heading level0 row9\" >9</th>\n",
       "                        <td id=\"T_f81c6_row9_col0\" class=\"data row9 col0\" >Transformed Train Set</td>\n",
       "                        <td id=\"T_f81c6_row9_col1\" class=\"data row9 col1\" >(367822, 20)</td>\n",
       "            </tr>\n",
       "            <tr>\n",
       "                        <th id=\"T_f81c6_level0_row10\" class=\"row_heading level0 row10\" >10</th>\n",
       "                        <td id=\"T_f81c6_row10_col0\" class=\"data row10 col0\" >Transformed Test Set</td>\n",
       "                        <td id=\"T_f81c6_row10_col1\" class=\"data row10 col1\" >(157639, 20)</td>\n",
       "            </tr>\n",
       "            <tr>\n",
       "                        <th id=\"T_f81c6_level0_row11\" class=\"row_heading level0 row11\" >11</th>\n",
       "                        <td id=\"T_f81c6_row11_col0\" class=\"data row11 col0\" >Shuffle Train-Test</td>\n",
       "                        <td id=\"T_f81c6_row11_col1\" class=\"data row11 col1\" >True</td>\n",
       "            </tr>\n",
       "            <tr>\n",
       "                        <th id=\"T_f81c6_level0_row12\" class=\"row_heading level0 row12\" >12</th>\n",
       "                        <td id=\"T_f81c6_row12_col0\" class=\"data row12 col0\" >Stratify Train-Test</td>\n",
       "                        <td id=\"T_f81c6_row12_col1\" class=\"data row12 col1\" >False</td>\n",
       "            </tr>\n",
       "            <tr>\n",
       "                        <th id=\"T_f81c6_level0_row13\" class=\"row_heading level0 row13\" >13</th>\n",
       "                        <td id=\"T_f81c6_row13_col0\" class=\"data row13 col0\" >Fold Generator</td>\n",
       "                        <td id=\"T_f81c6_row13_col1\" class=\"data row13 col1\" >KFold</td>\n",
       "            </tr>\n",
       "            <tr>\n",
       "                        <th id=\"T_f81c6_level0_row14\" class=\"row_heading level0 row14\" >14</th>\n",
       "                        <td id=\"T_f81c6_row14_col0\" class=\"data row14 col0\" >Fold Number</td>\n",
       "                        <td id=\"T_f81c6_row14_col1\" class=\"data row14 col1\" >10</td>\n",
       "            </tr>\n",
       "            <tr>\n",
       "                        <th id=\"T_f81c6_level0_row15\" class=\"row_heading level0 row15\" >15</th>\n",
       "                        <td id=\"T_f81c6_row15_col0\" class=\"data row15 col0\" >CPU Jobs</td>\n",
       "                        <td id=\"T_f81c6_row15_col1\" class=\"data row15 col1\" >-1</td>\n",
       "            </tr>\n",
       "            <tr>\n",
       "                        <th id=\"T_f81c6_level0_row16\" class=\"row_heading level0 row16\" >16</th>\n",
       "                        <td id=\"T_f81c6_row16_col0\" class=\"data row16 col0\" >Use GPU</td>\n",
       "                        <td id=\"T_f81c6_row16_col1\" class=\"data row16 col1\" >False</td>\n",
       "            </tr>\n",
       "            <tr>\n",
       "                        <th id=\"T_f81c6_level0_row17\" class=\"row_heading level0 row17\" >17</th>\n",
       "                        <td id=\"T_f81c6_row17_col0\" class=\"data row17 col0\" >Log Experiment</td>\n",
       "                        <td id=\"T_f81c6_row17_col1\" class=\"data row17 col1\" >False</td>\n",
       "            </tr>\n",
       "            <tr>\n",
       "                        <th id=\"T_f81c6_level0_row18\" class=\"row_heading level0 row18\" >18</th>\n",
       "                        <td id=\"T_f81c6_row18_col0\" class=\"data row18 col0\" >Experiment Name</td>\n",
       "                        <td id=\"T_f81c6_row18_col1\" class=\"data row18 col1\" >reg-default-name</td>\n",
       "            </tr>\n",
       "            <tr>\n",
       "                        <th id=\"T_f81c6_level0_row19\" class=\"row_heading level0 row19\" >19</th>\n",
       "                        <td id=\"T_f81c6_row19_col0\" class=\"data row19 col0\" >USI</td>\n",
       "                        <td id=\"T_f81c6_row19_col1\" class=\"data row19 col1\" >7949</td>\n",
       "            </tr>\n",
       "            <tr>\n",
       "                        <th id=\"T_f81c6_level0_row20\" class=\"row_heading level0 row20\" >20</th>\n",
       "                        <td id=\"T_f81c6_row20_col0\" class=\"data row20 col0\" >Imputation Type</td>\n",
       "                        <td id=\"T_f81c6_row20_col1\" class=\"data row20 col1\" >simple</td>\n",
       "            </tr>\n",
       "            <tr>\n",
       "                        <th id=\"T_f81c6_level0_row21\" class=\"row_heading level0 row21\" >21</th>\n",
       "                        <td id=\"T_f81c6_row21_col0\" class=\"data row21 col0\" >Iterative Imputation Iteration</td>\n",
       "                        <td id=\"T_f81c6_row21_col1\" class=\"data row21 col1\" >None</td>\n",
       "            </tr>\n",
       "            <tr>\n",
       "                        <th id=\"T_f81c6_level0_row22\" class=\"row_heading level0 row22\" >22</th>\n",
       "                        <td id=\"T_f81c6_row22_col0\" class=\"data row22 col0\" >Numeric Imputer</td>\n",
       "                        <td id=\"T_f81c6_row22_col1\" class=\"data row22 col1\" >mean</td>\n",
       "            </tr>\n",
       "            <tr>\n",
       "                        <th id=\"T_f81c6_level0_row23\" class=\"row_heading level0 row23\" >23</th>\n",
       "                        <td id=\"T_f81c6_row23_col0\" class=\"data row23 col0\" >Iterative Imputation Numeric Model</td>\n",
       "                        <td id=\"T_f81c6_row23_col1\" class=\"data row23 col1\" >None</td>\n",
       "            </tr>\n",
       "            <tr>\n",
       "                        <th id=\"T_f81c6_level0_row24\" class=\"row_heading level0 row24\" >24</th>\n",
       "                        <td id=\"T_f81c6_row24_col0\" class=\"data row24 col0\" >Categorical Imputer</td>\n",
       "                        <td id=\"T_f81c6_row24_col1\" class=\"data row24 col1\" >constant</td>\n",
       "            </tr>\n",
       "            <tr>\n",
       "                        <th id=\"T_f81c6_level0_row25\" class=\"row_heading level0 row25\" >25</th>\n",
       "                        <td id=\"T_f81c6_row25_col0\" class=\"data row25 col0\" >Iterative Imputation Categorical Model</td>\n",
       "                        <td id=\"T_f81c6_row25_col1\" class=\"data row25 col1\" >None</td>\n",
       "            </tr>\n",
       "            <tr>\n",
       "                        <th id=\"T_f81c6_level0_row26\" class=\"row_heading level0 row26\" >26</th>\n",
       "                        <td id=\"T_f81c6_row26_col0\" class=\"data row26 col0\" >Unknown Categoricals Handling</td>\n",
       "                        <td id=\"T_f81c6_row26_col1\" class=\"data row26 col1\" >least_frequent</td>\n",
       "            </tr>\n",
       "            <tr>\n",
       "                        <th id=\"T_f81c6_level0_row27\" class=\"row_heading level0 row27\" >27</th>\n",
       "                        <td id=\"T_f81c6_row27_col0\" class=\"data row27 col0\" >Normalize</td>\n",
       "                        <td id=\"T_f81c6_row27_col1\" class=\"data row27 col1\" >False</td>\n",
       "            </tr>\n",
       "            <tr>\n",
       "                        <th id=\"T_f81c6_level0_row28\" class=\"row_heading level0 row28\" >28</th>\n",
       "                        <td id=\"T_f81c6_row28_col0\" class=\"data row28 col0\" >Normalize Method</td>\n",
       "                        <td id=\"T_f81c6_row28_col1\" class=\"data row28 col1\" >None</td>\n",
       "            </tr>\n",
       "            <tr>\n",
       "                        <th id=\"T_f81c6_level0_row29\" class=\"row_heading level0 row29\" >29</th>\n",
       "                        <td id=\"T_f81c6_row29_col0\" class=\"data row29 col0\" >Transformation</td>\n",
       "                        <td id=\"T_f81c6_row29_col1\" class=\"data row29 col1\" >False</td>\n",
       "            </tr>\n",
       "            <tr>\n",
       "                        <th id=\"T_f81c6_level0_row30\" class=\"row_heading level0 row30\" >30</th>\n",
       "                        <td id=\"T_f81c6_row30_col0\" class=\"data row30 col0\" >Transformation Method</td>\n",
       "                        <td id=\"T_f81c6_row30_col1\" class=\"data row30 col1\" >None</td>\n",
       "            </tr>\n",
       "            <tr>\n",
       "                        <th id=\"T_f81c6_level0_row31\" class=\"row_heading level0 row31\" >31</th>\n",
       "                        <td id=\"T_f81c6_row31_col0\" class=\"data row31 col0\" >PCA</td>\n",
       "                        <td id=\"T_f81c6_row31_col1\" class=\"data row31 col1\" >False</td>\n",
       "            </tr>\n",
       "            <tr>\n",
       "                        <th id=\"T_f81c6_level0_row32\" class=\"row_heading level0 row32\" >32</th>\n",
       "                        <td id=\"T_f81c6_row32_col0\" class=\"data row32 col0\" >PCA Method</td>\n",
       "                        <td id=\"T_f81c6_row32_col1\" class=\"data row32 col1\" >None</td>\n",
       "            </tr>\n",
       "            <tr>\n",
       "                        <th id=\"T_f81c6_level0_row33\" class=\"row_heading level0 row33\" >33</th>\n",
       "                        <td id=\"T_f81c6_row33_col0\" class=\"data row33 col0\" >PCA Components</td>\n",
       "                        <td id=\"T_f81c6_row33_col1\" class=\"data row33 col1\" >None</td>\n",
       "            </tr>\n",
       "            <tr>\n",
       "                        <th id=\"T_f81c6_level0_row34\" class=\"row_heading level0 row34\" >34</th>\n",
       "                        <td id=\"T_f81c6_row34_col0\" class=\"data row34 col0\" >Ignore Low Variance</td>\n",
       "                        <td id=\"T_f81c6_row34_col1\" class=\"data row34 col1\" >False</td>\n",
       "            </tr>\n",
       "            <tr>\n",
       "                        <th id=\"T_f81c6_level0_row35\" class=\"row_heading level0 row35\" >35</th>\n",
       "                        <td id=\"T_f81c6_row35_col0\" class=\"data row35 col0\" >Combine Rare Levels</td>\n",
       "                        <td id=\"T_f81c6_row35_col1\" class=\"data row35 col1\" >False</td>\n",
       "            </tr>\n",
       "            <tr>\n",
       "                        <th id=\"T_f81c6_level0_row36\" class=\"row_heading level0 row36\" >36</th>\n",
       "                        <td id=\"T_f81c6_row36_col0\" class=\"data row36 col0\" >Rare Level Threshold</td>\n",
       "                        <td id=\"T_f81c6_row36_col1\" class=\"data row36 col1\" >None</td>\n",
       "            </tr>\n",
       "            <tr>\n",
       "                        <th id=\"T_f81c6_level0_row37\" class=\"row_heading level0 row37\" >37</th>\n",
       "                        <td id=\"T_f81c6_row37_col0\" class=\"data row37 col0\" >Numeric Binning</td>\n",
       "                        <td id=\"T_f81c6_row37_col1\" class=\"data row37 col1\" >False</td>\n",
       "            </tr>\n",
       "            <tr>\n",
       "                        <th id=\"T_f81c6_level0_row38\" class=\"row_heading level0 row38\" >38</th>\n",
       "                        <td id=\"T_f81c6_row38_col0\" class=\"data row38 col0\" >Remove Outliers</td>\n",
       "                        <td id=\"T_f81c6_row38_col1\" class=\"data row38 col1\" >False</td>\n",
       "            </tr>\n",
       "            <tr>\n",
       "                        <th id=\"T_f81c6_level0_row39\" class=\"row_heading level0 row39\" >39</th>\n",
       "                        <td id=\"T_f81c6_row39_col0\" class=\"data row39 col0\" >Outliers Threshold</td>\n",
       "                        <td id=\"T_f81c6_row39_col1\" class=\"data row39 col1\" >None</td>\n",
       "            </tr>\n",
       "            <tr>\n",
       "                        <th id=\"T_f81c6_level0_row40\" class=\"row_heading level0 row40\" >40</th>\n",
       "                        <td id=\"T_f81c6_row40_col0\" class=\"data row40 col0\" >Remove Multicollinearity</td>\n",
       "                        <td id=\"T_f81c6_row40_col1\" class=\"data row40 col1\" >False</td>\n",
       "            </tr>\n",
       "            <tr>\n",
       "                        <th id=\"T_f81c6_level0_row41\" class=\"row_heading level0 row41\" >41</th>\n",
       "                        <td id=\"T_f81c6_row41_col0\" class=\"data row41 col0\" >Multicollinearity Threshold</td>\n",
       "                        <td id=\"T_f81c6_row41_col1\" class=\"data row41 col1\" >None</td>\n",
       "            </tr>\n",
       "            <tr>\n",
       "                        <th id=\"T_f81c6_level0_row42\" class=\"row_heading level0 row42\" >42</th>\n",
       "                        <td id=\"T_f81c6_row42_col0\" class=\"data row42 col0\" >Clustering</td>\n",
       "                        <td id=\"T_f81c6_row42_col1\" class=\"data row42 col1\" >False</td>\n",
       "            </tr>\n",
       "            <tr>\n",
       "                        <th id=\"T_f81c6_level0_row43\" class=\"row_heading level0 row43\" >43</th>\n",
       "                        <td id=\"T_f81c6_row43_col0\" class=\"data row43 col0\" >Clustering Iteration</td>\n",
       "                        <td id=\"T_f81c6_row43_col1\" class=\"data row43 col1\" >None</td>\n",
       "            </tr>\n",
       "            <tr>\n",
       "                        <th id=\"T_f81c6_level0_row44\" class=\"row_heading level0 row44\" >44</th>\n",
       "                        <td id=\"T_f81c6_row44_col0\" class=\"data row44 col0\" >Polynomial Features</td>\n",
       "                        <td id=\"T_f81c6_row44_col1\" class=\"data row44 col1\" >False</td>\n",
       "            </tr>\n",
       "            <tr>\n",
       "                        <th id=\"T_f81c6_level0_row45\" class=\"row_heading level0 row45\" >45</th>\n",
       "                        <td id=\"T_f81c6_row45_col0\" class=\"data row45 col0\" >Polynomial Degree</td>\n",
       "                        <td id=\"T_f81c6_row45_col1\" class=\"data row45 col1\" >None</td>\n",
       "            </tr>\n",
       "            <tr>\n",
       "                        <th id=\"T_f81c6_level0_row46\" class=\"row_heading level0 row46\" >46</th>\n",
       "                        <td id=\"T_f81c6_row46_col0\" class=\"data row46 col0\" >Trignometry Features</td>\n",
       "                        <td id=\"T_f81c6_row46_col1\" class=\"data row46 col1\" >False</td>\n",
       "            </tr>\n",
       "            <tr>\n",
       "                        <th id=\"T_f81c6_level0_row47\" class=\"row_heading level0 row47\" >47</th>\n",
       "                        <td id=\"T_f81c6_row47_col0\" class=\"data row47 col0\" >Polynomial Threshold</td>\n",
       "                        <td id=\"T_f81c6_row47_col1\" class=\"data row47 col1\" >None</td>\n",
       "            </tr>\n",
       "            <tr>\n",
       "                        <th id=\"T_f81c6_level0_row48\" class=\"row_heading level0 row48\" >48</th>\n",
       "                        <td id=\"T_f81c6_row48_col0\" class=\"data row48 col0\" >Group Features</td>\n",
       "                        <td id=\"T_f81c6_row48_col1\" class=\"data row48 col1\" >False</td>\n",
       "            </tr>\n",
       "            <tr>\n",
       "                        <th id=\"T_f81c6_level0_row49\" class=\"row_heading level0 row49\" >49</th>\n",
       "                        <td id=\"T_f81c6_row49_col0\" class=\"data row49 col0\" >Feature Selection</td>\n",
       "                        <td id=\"T_f81c6_row49_col1\" class=\"data row49 col1\" >False</td>\n",
       "            </tr>\n",
       "            <tr>\n",
       "                        <th id=\"T_f81c6_level0_row50\" class=\"row_heading level0 row50\" >50</th>\n",
       "                        <td id=\"T_f81c6_row50_col0\" class=\"data row50 col0\" >Feature Selection Method</td>\n",
       "                        <td id=\"T_f81c6_row50_col1\" class=\"data row50 col1\" >classic</td>\n",
       "            </tr>\n",
       "            <tr>\n",
       "                        <th id=\"T_f81c6_level0_row51\" class=\"row_heading level0 row51\" >51</th>\n",
       "                        <td id=\"T_f81c6_row51_col0\" class=\"data row51 col0\" >Features Selection Threshold</td>\n",
       "                        <td id=\"T_f81c6_row51_col1\" class=\"data row51 col1\" >None</td>\n",
       "            </tr>\n",
       "            <tr>\n",
       "                        <th id=\"T_f81c6_level0_row52\" class=\"row_heading level0 row52\" >52</th>\n",
       "                        <td id=\"T_f81c6_row52_col0\" class=\"data row52 col0\" >Feature Interaction</td>\n",
       "                        <td id=\"T_f81c6_row52_col1\" class=\"data row52 col1\" >False</td>\n",
       "            </tr>\n",
       "            <tr>\n",
       "                        <th id=\"T_f81c6_level0_row53\" class=\"row_heading level0 row53\" >53</th>\n",
       "                        <td id=\"T_f81c6_row53_col0\" class=\"data row53 col0\" >Feature Ratio</td>\n",
       "                        <td id=\"T_f81c6_row53_col1\" class=\"data row53 col1\" >False</td>\n",
       "            </tr>\n",
       "            <tr>\n",
       "                        <th id=\"T_f81c6_level0_row54\" class=\"row_heading level0 row54\" >54</th>\n",
       "                        <td id=\"T_f81c6_row54_col0\" class=\"data row54 col0\" >Interaction Threshold</td>\n",
       "                        <td id=\"T_f81c6_row54_col1\" class=\"data row54 col1\" >None</td>\n",
       "            </tr>\n",
       "            <tr>\n",
       "                        <th id=\"T_f81c6_level0_row55\" class=\"row_heading level0 row55\" >55</th>\n",
       "                        <td id=\"T_f81c6_row55_col0\" class=\"data row55 col0\" >Transform Target</td>\n",
       "                        <td id=\"T_f81c6_row55_col1\" class=\"data row55 col1\" >False</td>\n",
       "            </tr>\n",
       "            <tr>\n",
       "                        <th id=\"T_f81c6_level0_row56\" class=\"row_heading level0 row56\" >56</th>\n",
       "                        <td id=\"T_f81c6_row56_col0\" class=\"data row56 col0\" >Transform Target Method</td>\n",
       "                        <td id=\"T_f81c6_row56_col1\" class=\"data row56 col1\" >box-cox</td>\n",
       "            </tr>\n",
       "    </tbody></table>"
      ],
      "text/plain": [
       "<pandas.io.formats.style.Styler at 0x13aeb4730>"
      ]
     },
     "metadata": {},
     "output_type": "display_data"
    }
   ],
   "source": [
    "exp_clf101 = setup(data = reg_train, target = 'Target', session_id=123, numeric_features = categorical_cols+numerical_cols)"
   ]
  },
  {
   "cell_type": "code",
   "execution_count": 26,
   "metadata": {},
   "outputs": [
    {
     "data": {
      "text/html": [
       "<div>\n",
       "<style scoped>\n",
       "    .dataframe tbody tr th:only-of-type {\n",
       "        vertical-align: middle;\n",
       "    }\n",
       "\n",
       "    .dataframe tbody tr th {\n",
       "        vertical-align: top;\n",
       "    }\n",
       "\n",
       "    .dataframe thead th {\n",
       "        text-align: right;\n",
       "    }\n",
       "</style>\n",
       "<table border=\"1\" class=\"dataframe\">\n",
       "  <thead>\n",
       "    <tr style=\"text-align: right;\">\n",
       "      <th></th>\n",
       "      <th>Name</th>\n",
       "      <th>Reference</th>\n",
       "      <th>Turbo</th>\n",
       "    </tr>\n",
       "    <tr>\n",
       "      <th>ID</th>\n",
       "      <th></th>\n",
       "      <th></th>\n",
       "      <th></th>\n",
       "    </tr>\n",
       "  </thead>\n",
       "  <tbody>\n",
       "    <tr>\n",
       "      <th>lr</th>\n",
       "      <td>Linear Regression</td>\n",
       "      <td>sklearn.linear_model._base.LinearRegression</td>\n",
       "      <td>True</td>\n",
       "    </tr>\n",
       "    <tr>\n",
       "      <th>lasso</th>\n",
       "      <td>Lasso Regression</td>\n",
       "      <td>sklearn.linear_model._coordinate_descent.Lasso</td>\n",
       "      <td>True</td>\n",
       "    </tr>\n",
       "    <tr>\n",
       "      <th>ridge</th>\n",
       "      <td>Ridge Regression</td>\n",
       "      <td>sklearn.linear_model._ridge.Ridge</td>\n",
       "      <td>True</td>\n",
       "    </tr>\n",
       "    <tr>\n",
       "      <th>en</th>\n",
       "      <td>Elastic Net</td>\n",
       "      <td>sklearn.linear_model._coordinate_descent.Elast...</td>\n",
       "      <td>True</td>\n",
       "    </tr>\n",
       "    <tr>\n",
       "      <th>lar</th>\n",
       "      <td>Least Angle Regression</td>\n",
       "      <td>sklearn.linear_model._least_angle.Lars</td>\n",
       "      <td>True</td>\n",
       "    </tr>\n",
       "    <tr>\n",
       "      <th>llar</th>\n",
       "      <td>Lasso Least Angle Regression</td>\n",
       "      <td>sklearn.linear_model._least_angle.LassoLars</td>\n",
       "      <td>True</td>\n",
       "    </tr>\n",
       "    <tr>\n",
       "      <th>omp</th>\n",
       "      <td>Orthogonal Matching Pursuit</td>\n",
       "      <td>sklearn.linear_model._omp.OrthogonalMatchingPu...</td>\n",
       "      <td>True</td>\n",
       "    </tr>\n",
       "    <tr>\n",
       "      <th>br</th>\n",
       "      <td>Bayesian Ridge</td>\n",
       "      <td>sklearn.linear_model._bayes.BayesianRidge</td>\n",
       "      <td>True</td>\n",
       "    </tr>\n",
       "    <tr>\n",
       "      <th>ard</th>\n",
       "      <td>Automatic Relevance Determination</td>\n",
       "      <td>sklearn.linear_model._bayes.ARDRegression</td>\n",
       "      <td>False</td>\n",
       "    </tr>\n",
       "    <tr>\n",
       "      <th>par</th>\n",
       "      <td>Passive Aggressive Regressor</td>\n",
       "      <td>sklearn.linear_model._passive_aggressive.Passi...</td>\n",
       "      <td>True</td>\n",
       "    </tr>\n",
       "    <tr>\n",
       "      <th>ransac</th>\n",
       "      <td>Random Sample Consensus</td>\n",
       "      <td>sklearn.linear_model._ransac.RANSACRegressor</td>\n",
       "      <td>False</td>\n",
       "    </tr>\n",
       "    <tr>\n",
       "      <th>tr</th>\n",
       "      <td>TheilSen Regressor</td>\n",
       "      <td>sklearn.linear_model._theil_sen.TheilSenRegressor</td>\n",
       "      <td>False</td>\n",
       "    </tr>\n",
       "    <tr>\n",
       "      <th>huber</th>\n",
       "      <td>Huber Regressor</td>\n",
       "      <td>sklearn.linear_model._huber.HuberRegressor</td>\n",
       "      <td>True</td>\n",
       "    </tr>\n",
       "    <tr>\n",
       "      <th>kr</th>\n",
       "      <td>Kernel Ridge</td>\n",
       "      <td>sklearn.kernel_ridge.KernelRidge</td>\n",
       "      <td>False</td>\n",
       "    </tr>\n",
       "    <tr>\n",
       "      <th>svm</th>\n",
       "      <td>Support Vector Regression</td>\n",
       "      <td>sklearn.svm._classes.SVR</td>\n",
       "      <td>False</td>\n",
       "    </tr>\n",
       "    <tr>\n",
       "      <th>knn</th>\n",
       "      <td>K Neighbors Regressor</td>\n",
       "      <td>sklearn.neighbors._regression.KNeighborsRegressor</td>\n",
       "      <td>True</td>\n",
       "    </tr>\n",
       "    <tr>\n",
       "      <th>dt</th>\n",
       "      <td>Decision Tree Regressor</td>\n",
       "      <td>sklearn.tree._classes.DecisionTreeRegressor</td>\n",
       "      <td>True</td>\n",
       "    </tr>\n",
       "    <tr>\n",
       "      <th>rf</th>\n",
       "      <td>Random Forest Regressor</td>\n",
       "      <td>sklearn.ensemble._forest.RandomForestRegressor</td>\n",
       "      <td>True</td>\n",
       "    </tr>\n",
       "    <tr>\n",
       "      <th>et</th>\n",
       "      <td>Extra Trees Regressor</td>\n",
       "      <td>sklearn.ensemble._forest.ExtraTreesRegressor</td>\n",
       "      <td>True</td>\n",
       "    </tr>\n",
       "    <tr>\n",
       "      <th>ada</th>\n",
       "      <td>AdaBoost Regressor</td>\n",
       "      <td>sklearn.ensemble._weight_boosting.AdaBoostRegr...</td>\n",
       "      <td>True</td>\n",
       "    </tr>\n",
       "    <tr>\n",
       "      <th>gbr</th>\n",
       "      <td>Gradient Boosting Regressor</td>\n",
       "      <td>sklearn.ensemble._gb.GradientBoostingRegressor</td>\n",
       "      <td>True</td>\n",
       "    </tr>\n",
       "    <tr>\n",
       "      <th>mlp</th>\n",
       "      <td>MLP Regressor</td>\n",
       "      <td>sklearn.neural_network._multilayer_perceptron....</td>\n",
       "      <td>False</td>\n",
       "    </tr>\n",
       "    <tr>\n",
       "      <th>lightgbm</th>\n",
       "      <td>Light Gradient Boosting Machine</td>\n",
       "      <td>lightgbm.sklearn.LGBMRegressor</td>\n",
       "      <td>True</td>\n",
       "    </tr>\n",
       "  </tbody>\n",
       "</table>\n",
       "</div>"
      ],
      "text/plain": [
       "                                       Name  \\\n",
       "ID                                            \n",
       "lr                        Linear Regression   \n",
       "lasso                      Lasso Regression   \n",
       "ridge                      Ridge Regression   \n",
       "en                              Elastic Net   \n",
       "lar                  Least Angle Regression   \n",
       "llar           Lasso Least Angle Regression   \n",
       "omp             Orthogonal Matching Pursuit   \n",
       "br                           Bayesian Ridge   \n",
       "ard       Automatic Relevance Determination   \n",
       "par            Passive Aggressive Regressor   \n",
       "ransac              Random Sample Consensus   \n",
       "tr                       TheilSen Regressor   \n",
       "huber                       Huber Regressor   \n",
       "kr                             Kernel Ridge   \n",
       "svm               Support Vector Regression   \n",
       "knn                   K Neighbors Regressor   \n",
       "dt                  Decision Tree Regressor   \n",
       "rf                  Random Forest Regressor   \n",
       "et                    Extra Trees Regressor   \n",
       "ada                      AdaBoost Regressor   \n",
       "gbr             Gradient Boosting Regressor   \n",
       "mlp                           MLP Regressor   \n",
       "lightgbm    Light Gradient Boosting Machine   \n",
       "\n",
       "                                                  Reference  Turbo  \n",
       "ID                                                                  \n",
       "lr              sklearn.linear_model._base.LinearRegression   True  \n",
       "lasso        sklearn.linear_model._coordinate_descent.Lasso   True  \n",
       "ridge                     sklearn.linear_model._ridge.Ridge   True  \n",
       "en        sklearn.linear_model._coordinate_descent.Elast...   True  \n",
       "lar                  sklearn.linear_model._least_angle.Lars   True  \n",
       "llar            sklearn.linear_model._least_angle.LassoLars   True  \n",
       "omp       sklearn.linear_model._omp.OrthogonalMatchingPu...   True  \n",
       "br                sklearn.linear_model._bayes.BayesianRidge   True  \n",
       "ard               sklearn.linear_model._bayes.ARDRegression  False  \n",
       "par       sklearn.linear_model._passive_aggressive.Passi...   True  \n",
       "ransac         sklearn.linear_model._ransac.RANSACRegressor  False  \n",
       "tr        sklearn.linear_model._theil_sen.TheilSenRegressor  False  \n",
       "huber            sklearn.linear_model._huber.HuberRegressor   True  \n",
       "kr                         sklearn.kernel_ridge.KernelRidge  False  \n",
       "svm                                sklearn.svm._classes.SVR  False  \n",
       "knn       sklearn.neighbors._regression.KNeighborsRegressor   True  \n",
       "dt              sklearn.tree._classes.DecisionTreeRegressor   True  \n",
       "rf           sklearn.ensemble._forest.RandomForestRegressor   True  \n",
       "et             sklearn.ensemble._forest.ExtraTreesRegressor   True  \n",
       "ada       sklearn.ensemble._weight_boosting.AdaBoostRegr...   True  \n",
       "gbr          sklearn.ensemble._gb.GradientBoostingRegressor   True  \n",
       "mlp       sklearn.neural_network._multilayer_perceptron....  False  \n",
       "lightgbm                     lightgbm.sklearn.LGBMRegressor   True  "
      ]
     },
     "execution_count": 26,
     "metadata": {},
     "output_type": "execute_result"
    }
   ],
   "source": [
    "models()"
   ]
  },
  {
   "source": [
    "## Creating Linear regression Model"
   ],
   "cell_type": "markdown",
   "metadata": {}
  },
  {
   "cell_type": "code",
   "execution_count": 27,
   "metadata": {},
   "outputs": [
    {
     "data": {
      "text/html": [
       "<style  type=\"text/css\" >\n",
       "#T_6a36f_row10_col0,#T_6a36f_row10_col1,#T_6a36f_row10_col2,#T_6a36f_row10_col3,#T_6a36f_row10_col4,#T_6a36f_row10_col5{\n",
       "            background:  yellow;\n",
       "        }</style><table id=\"T_6a36f_\" ><thead>    <tr>        <th class=\"blank level0\" ></th>        <th class=\"col_heading level0 col0\" >MAE</th>        <th class=\"col_heading level0 col1\" >MSE</th>        <th class=\"col_heading level0 col2\" >RMSE</th>        <th class=\"col_heading level0 col3\" >R2</th>        <th class=\"col_heading level0 col4\" >RMSLE</th>        <th class=\"col_heading level0 col5\" >MAPE</th>    </tr></thead><tbody>\n",
       "                <tr>\n",
       "                        <th id=\"T_6a36f_level0_row0\" class=\"row_heading level0 row0\" >0</th>\n",
       "                        <td id=\"T_6a36f_row0_col0\" class=\"data row0 col0\" >1.0820</td>\n",
       "                        <td id=\"T_6a36f_row0_col1\" class=\"data row0 col1\" >7.2913</td>\n",
       "                        <td id=\"T_6a36f_row0_col2\" class=\"data row0 col2\" >2.7002</td>\n",
       "                        <td id=\"T_6a36f_row0_col3\" class=\"data row0 col3\" >0.3250</td>\n",
       "                        <td id=\"T_6a36f_row0_col4\" class=\"data row0 col4\" >0.6043</td>\n",
       "                        <td id=\"T_6a36f_row0_col5\" class=\"data row0 col5\" >0.6931</td>\n",
       "            </tr>\n",
       "            <tr>\n",
       "                        <th id=\"T_6a36f_level0_row1\" class=\"row_heading level0 row1\" >1</th>\n",
       "                        <td id=\"T_6a36f_row1_col0\" class=\"data row1 col0\" >1.1063</td>\n",
       "                        <td id=\"T_6a36f_row1_col1\" class=\"data row1 col1\" >7.4983</td>\n",
       "                        <td id=\"T_6a36f_row1_col2\" class=\"data row1 col2\" >2.7383</td>\n",
       "                        <td id=\"T_6a36f_row1_col3\" class=\"data row1 col3\" >0.3315</td>\n",
       "                        <td id=\"T_6a36f_row1_col4\" class=\"data row1 col4\" >0.6126</td>\n",
       "                        <td id=\"T_6a36f_row1_col5\" class=\"data row1 col5\" >0.6871</td>\n",
       "            </tr>\n",
       "            <tr>\n",
       "                        <th id=\"T_6a36f_level0_row2\" class=\"row_heading level0 row2\" >2</th>\n",
       "                        <td id=\"T_6a36f_row2_col0\" class=\"data row2 col0\" >1.1000</td>\n",
       "                        <td id=\"T_6a36f_row2_col1\" class=\"data row2 col1\" >7.4493</td>\n",
       "                        <td id=\"T_6a36f_row2_col2\" class=\"data row2 col2\" >2.7293</td>\n",
       "                        <td id=\"T_6a36f_row2_col3\" class=\"data row2 col3\" >0.3071</td>\n",
       "                        <td id=\"T_6a36f_row2_col4\" class=\"data row2 col4\" >0.6164</td>\n",
       "                        <td id=\"T_6a36f_row2_col5\" class=\"data row2 col5\" >0.6796</td>\n",
       "            </tr>\n",
       "            <tr>\n",
       "                        <th id=\"T_6a36f_level0_row3\" class=\"row_heading level0 row3\" >3</th>\n",
       "                        <td id=\"T_6a36f_row3_col0\" class=\"data row3 col0\" >1.1106</td>\n",
       "                        <td id=\"T_6a36f_row3_col1\" class=\"data row3 col1\" >7.6165</td>\n",
       "                        <td id=\"T_6a36f_row3_col2\" class=\"data row3 col2\" >2.7598</td>\n",
       "                        <td id=\"T_6a36f_row3_col3\" class=\"data row3 col3\" >0.3111</td>\n",
       "                        <td id=\"T_6a36f_row3_col4\" class=\"data row3 col4\" >0.6143</td>\n",
       "                        <td id=\"T_6a36f_row3_col5\" class=\"data row3 col5\" >0.6899</td>\n",
       "            </tr>\n",
       "            <tr>\n",
       "                        <th id=\"T_6a36f_level0_row4\" class=\"row_heading level0 row4\" >4</th>\n",
       "                        <td id=\"T_6a36f_row4_col0\" class=\"data row4 col0\" >1.1228</td>\n",
       "                        <td id=\"T_6a36f_row4_col1\" class=\"data row4 col1\" >7.8065</td>\n",
       "                        <td id=\"T_6a36f_row4_col2\" class=\"data row4 col2\" >2.7940</td>\n",
       "                        <td id=\"T_6a36f_row4_col3\" class=\"data row4 col3\" >0.2977</td>\n",
       "                        <td id=\"T_6a36f_row4_col4\" class=\"data row4 col4\" >0.6207</td>\n",
       "                        <td id=\"T_6a36f_row4_col5\" class=\"data row4 col5\" >0.6904</td>\n",
       "            </tr>\n",
       "            <tr>\n",
       "                        <th id=\"T_6a36f_level0_row5\" class=\"row_heading level0 row5\" >5</th>\n",
       "                        <td id=\"T_6a36f_row5_col0\" class=\"data row5 col0\" >1.0915</td>\n",
       "                        <td id=\"T_6a36f_row5_col1\" class=\"data row5 col1\" >7.3648</td>\n",
       "                        <td id=\"T_6a36f_row5_col2\" class=\"data row5 col2\" >2.7138</td>\n",
       "                        <td id=\"T_6a36f_row5_col3\" class=\"data row5 col3\" >0.3206</td>\n",
       "                        <td id=\"T_6a36f_row5_col4\" class=\"data row5 col4\" >0.6109</td>\n",
       "                        <td id=\"T_6a36f_row5_col5\" class=\"data row5 col5\" >0.6853</td>\n",
       "            </tr>\n",
       "            <tr>\n",
       "                        <th id=\"T_6a36f_level0_row6\" class=\"row_heading level0 row6\" >6</th>\n",
       "                        <td id=\"T_6a36f_row6_col0\" class=\"data row6 col0\" >1.0978</td>\n",
       "                        <td id=\"T_6a36f_row6_col1\" class=\"data row6 col1\" >7.5091</td>\n",
       "                        <td id=\"T_6a36f_row6_col2\" class=\"data row6 col2\" >2.7403</td>\n",
       "                        <td id=\"T_6a36f_row6_col3\" class=\"data row6 col3\" >0.3224</td>\n",
       "                        <td id=\"T_6a36f_row6_col4\" class=\"data row6 col4\" >0.6093</td>\n",
       "                        <td id=\"T_6a36f_row6_col5\" class=\"data row6 col5\" >0.6892</td>\n",
       "            </tr>\n",
       "            <tr>\n",
       "                        <th id=\"T_6a36f_level0_row7\" class=\"row_heading level0 row7\" >7</th>\n",
       "                        <td id=\"T_6a36f_row7_col0\" class=\"data row7 col0\" >1.1083</td>\n",
       "                        <td id=\"T_6a36f_row7_col1\" class=\"data row7 col1\" >7.8386</td>\n",
       "                        <td id=\"T_6a36f_row7_col2\" class=\"data row7 col2\" >2.7997</td>\n",
       "                        <td id=\"T_6a36f_row7_col3\" class=\"data row7 col3\" >0.2869</td>\n",
       "                        <td id=\"T_6a36f_row7_col4\" class=\"data row7 col4\" >0.6133</td>\n",
       "                        <td id=\"T_6a36f_row7_col5\" class=\"data row7 col5\" >0.6950</td>\n",
       "            </tr>\n",
       "            <tr>\n",
       "                        <th id=\"T_6a36f_level0_row8\" class=\"row_heading level0 row8\" >8</th>\n",
       "                        <td id=\"T_6a36f_row8_col0\" class=\"data row8 col0\" >1.1047</td>\n",
       "                        <td id=\"T_6a36f_row8_col1\" class=\"data row8 col1\" >7.7357</td>\n",
       "                        <td id=\"T_6a36f_row8_col2\" class=\"data row8 col2\" >2.7813</td>\n",
       "                        <td id=\"T_6a36f_row8_col3\" class=\"data row8 col3\" >0.2831</td>\n",
       "                        <td id=\"T_6a36f_row8_col4\" class=\"data row8 col4\" >0.6145</td>\n",
       "                        <td id=\"T_6a36f_row8_col5\" class=\"data row8 col5\" >0.6982</td>\n",
       "            </tr>\n",
       "            <tr>\n",
       "                        <th id=\"T_6a36f_level0_row9\" class=\"row_heading level0 row9\" >9</th>\n",
       "                        <td id=\"T_6a36f_row9_col0\" class=\"data row9 col0\" >1.0691</td>\n",
       "                        <td id=\"T_6a36f_row9_col1\" class=\"data row9 col1\" >7.5896</td>\n",
       "                        <td id=\"T_6a36f_row9_col2\" class=\"data row9 col2\" >2.7549</td>\n",
       "                        <td id=\"T_6a36f_row9_col3\" class=\"data row9 col3\" >0.2617</td>\n",
       "                        <td id=\"T_6a36f_row9_col4\" class=\"data row9 col4\" >0.6065</td>\n",
       "                        <td id=\"T_6a36f_row9_col5\" class=\"data row9 col5\" >0.6795</td>\n",
       "            </tr>\n",
       "            <tr>\n",
       "                        <th id=\"T_6a36f_level0_row10\" class=\"row_heading level0 row10\" >Mean</th>\n",
       "                        <td id=\"T_6a36f_row10_col0\" class=\"data row10 col0\" >1.0993</td>\n",
       "                        <td id=\"T_6a36f_row10_col1\" class=\"data row10 col1\" >7.5700</td>\n",
       "                        <td id=\"T_6a36f_row10_col2\" class=\"data row10 col2\" >2.7512</td>\n",
       "                        <td id=\"T_6a36f_row10_col3\" class=\"data row10 col3\" >0.3047</td>\n",
       "                        <td id=\"T_6a36f_row10_col4\" class=\"data row10 col4\" >0.6123</td>\n",
       "                        <td id=\"T_6a36f_row10_col5\" class=\"data row10 col5\" >0.6887</td>\n",
       "            </tr>\n",
       "            <tr>\n",
       "                        <th id=\"T_6a36f_level0_row11\" class=\"row_heading level0 row11\" >SD</th>\n",
       "                        <td id=\"T_6a36f_row11_col0\" class=\"data row11 col0\" >0.0145</td>\n",
       "                        <td id=\"T_6a36f_row11_col1\" class=\"data row11 col1\" >0.1736</td>\n",
       "                        <td id=\"T_6a36f_row11_col2\" class=\"data row11 col2\" >0.0315</td>\n",
       "                        <td id=\"T_6a36f_row11_col3\" class=\"data row11 col3\" >0.0210</td>\n",
       "                        <td id=\"T_6a36f_row11_col4\" class=\"data row11 col4\" >0.0045</td>\n",
       "                        <td id=\"T_6a36f_row11_col5\" class=\"data row11 col5\" >0.0058</td>\n",
       "            </tr>\n",
       "    </tbody></table>"
      ],
      "text/plain": [
       "<pandas.io.formats.style.Styler at 0x13c707b50>"
      ]
     },
     "metadata": {},
     "output_type": "display_data"
    }
   ],
   "source": [
    "lr = create_model('lr')"
   ]
  },
  {
   "cell_type": "markdown",
   "metadata": {},
   "source": [
    "## Plot a Model"
   ]
  },
  {
   "cell_type": "markdown",
   "metadata": {},
   "source": [
    "## Residual Plot"
   ]
  },
  {
   "cell_type": "code",
   "execution_count": 28,
   "metadata": {},
   "outputs": [
    {
     "data": {
      "image/png": "[encoded data removed]",
      "text/plain": [
       "<Figure size 576x396 with 2 Axes>"
      ]
     },
     "metadata": {},
     "output_type": "display_data"
    }
   ],
   "source": [
    "plot_model(lr) # write here tuned_lightgbm"
   ]
  },
  {
   "cell_type": "markdown",
   "metadata": {},
   "source": [
    "## Prediction Error Plot"
   ]
  },
  {
   "cell_type": "code",
   "execution_count": 29,
   "metadata": {},
   "outputs": [
    {
     "data": {
      "image/png": "[encoded data removed]",
      "text/plain": [
       "<Figure size 576x396 with 1 Axes>"
      ]
     },
     "metadata": {},
     "output_type": "display_data"
    }
   ],
   "source": [
    "plot_model(lr, plot = 'error') # write here tuned_lightgbm"
   ]
  },
  {
   "cell_type": "markdown",
   "metadata": {},
   "source": [
    "## Feature Importance Plot"
   ]
  },
  {
   "cell_type": "code",
   "execution_count": 30,
   "metadata": {},
   "outputs": [
    {
     "data": {
      "image/png": "[encoded data removed]",
      "text/plain": [
       "<Figure size 800x500 with 1 Axes>"
      ]
     },
     "metadata": {},
     "output_type": "display_data"
    }
   ],
   "source": [
    "plot_model(lr, plot='feature') # write here tuned_lightgbm"
   ]
  },
  {
   "cell_type": "markdown",
   "metadata": {},
   "source": [
    "## Predict on test / hold-out Sample"
   ]
  },
  {
   "cell_type": "code",
   "execution_count": 31,
   "metadata": {},
   "outputs": [
    {
     "data": {
      "text/html": [
       "<style  type=\"text/css\" >\n",
       "</style><table id=\"T_9f200_\" ><thead>    <tr>        <th class=\"blank level0\" ></th>        <th class=\"col_heading level0 col0\" >Model</th>        <th class=\"col_heading level0 col1\" >MAE</th>        <th class=\"col_heading level0 col2\" >MSE</th>        <th class=\"col_heading level0 col3\" >RMSE</th>        <th class=\"col_heading level0 col4\" >R2</th>        <th class=\"col_heading level0 col5\" >RMSLE</th>        <th class=\"col_heading level0 col6\" >MAPE</th>    </tr></thead><tbody>\n",
       "                <tr>\n",
       "                        <th id=\"T_9f200_level0_row0\" class=\"row_heading level0 row0\" >0</th>\n",
       "                        <td id=\"T_9f200_row0_col0\" class=\"data row0 col0\" >Linear Regression</td>\n",
       "                        <td id=\"T_9f200_row0_col1\" class=\"data row0 col1\" >1.0870</td>\n",
       "                        <td id=\"T_9f200_row0_col2\" class=\"data row0 col2\" >7.4079</td>\n",
       "                        <td id=\"T_9f200_row0_col3\" class=\"data row0 col3\" >2.7217</td>\n",
       "                        <td id=\"T_9f200_row0_col4\" class=\"data row0 col4\" >0.2965</td>\n",
       "                        <td id=\"T_9f200_row0_col5\" class=\"data row0 col5\" >0.6121</td>\n",
       "                        <td id=\"T_9f200_row0_col6\" class=\"data row0 col6\" >0.6883</td>\n",
       "            </tr>\n",
       "    </tbody></table>"
      ],
      "text/plain": [
       "<pandas.io.formats.style.Styler at 0x13ba128b0>"
      ]
     },
     "metadata": {},
     "output_type": "display_data"
    }
   ],
   "source": [
    "predict_model(lr)"
   ]
  },
  {
   "cell_type": "markdown",
   "metadata": {},
   "source": [
    "## Finalize Model for Deplyoment"
   ]
  },
  {
   "cell_type": "code",
   "execution_count": 32,
   "metadata": {},
   "outputs": [],
   "source": [
    "final_lr = finalize_model(lr)"
   ]
  },
  {
   "cell_type": "code",
   "execution_count": 33,
   "metadata": {},
   "outputs": [
    {
     "data": {
      "text/html": [
       "<style  type=\"text/css\" >\n",
       "</style><table id=\"T_de74e_\" ><thead>    <tr>        <th class=\"blank level0\" ></th>        <th class=\"col_heading level0 col0\" >Model</th>        <th class=\"col_heading level0 col1\" >MAE</th>        <th class=\"col_heading level0 col2\" >MSE</th>        <th class=\"col_heading level0 col3\" >RMSE</th>        <th class=\"col_heading level0 col4\" >R2</th>        <th class=\"col_heading level0 col5\" >RMSLE</th>        <th class=\"col_heading level0 col6\" >MAPE</th>    </tr></thead><tbody>\n",
       "                <tr>\n",
       "                        <th id=\"T_de74e_level0_row0\" class=\"row_heading level0 row0\" >0</th>\n",
       "                        <td id=\"T_de74e_row0_col0\" class=\"data row0 col0\" >Linear Regression</td>\n",
       "                        <td id=\"T_de74e_row0_col1\" class=\"data row0 col1\" >1.0818</td>\n",
       "                        <td id=\"T_de74e_row0_col2\" class=\"data row0 col2\" >7.4051</td>\n",
       "                        <td id=\"T_de74e_row0_col3\" class=\"data row0 col3\" >2.7212</td>\n",
       "                        <td id=\"T_de74e_row0_col4\" class=\"data row0 col4\" >0.2968</td>\n",
       "                        <td id=\"T_de74e_row0_col5\" class=\"data row0 col5\" >0.6093</td>\n",
       "                        <td id=\"T_de74e_row0_col6\" class=\"data row0 col6\" >0.6908</td>\n",
       "            </tr>\n",
       "    </tbody></table>"
      ],
      "text/plain": [
       "<pandas.io.formats.style.Styler at 0x139b62400>"
      ]
     },
     "metadata": {},
     "output_type": "display_data"
    }
   ],
   "source": [
    "predict_model(final_lr)"
   ]
  },
  {
   "cell_type": "markdown",
   "metadata": {},
   "source": [
    "## Predict on unseen data"
   ]
  },
  {
   "cell_type": "code",
   "execution_count": 34,
   "metadata": {},
   "outputs": [],
   "source": [
    "unseen_predictions = predict_model(final_lr, data=data_unseen)"
   ]
  },
  {
   "cell_type": "code",
   "execution_count": 35,
   "metadata": {},
   "outputs": [
    {
     "data": {
      "text/plain": [
       "4.1974"
      ]
     },
     "execution_count": 35,
     "metadata": {},
     "output_type": "execute_result"
    }
   ],
   "source": [
    "check_metric(unseen_predictions[\"Target\"], unseen_predictions.Label, 'RMSE')"
   ]
  },
  {
   "cell_type": "markdown",
   "metadata": {},
   "source": [
    "# Final part - Creating submission file"
   ]
  },
  {
   "cell_type": "markdown",
   "metadata": {},
   "source": [
    "## Saving the Predicted Target Values of the Model"
   ]
  },
  {
   "cell_type": "code",
   "execution_count": 36,
   "metadata": {
    "tags": []
   },
   "outputs": [
    {
     "data": {
      "text/plain": [
       "0    0.189736\n",
       "1    0.087735\n",
       "2    0.843213\n",
       "3    0.670745\n",
       "4   -0.111545\n",
       "Name: Label, dtype: float32"
      ]
     },
     "execution_count": 36,
     "metadata": {},
     "output_type": "execute_result"
    }
   ],
   "source": [
    "sub_reg = unseen_predictions['Label']\n",
    "sub_reg.head()"
   ]
  },
  {
   "source": [
    "### Saving the result of prediction in CSV file"
   ],
   "cell_type": "markdown",
   "metadata": {}
  },
  {
   "cell_type": "code",
   "execution_count": 37,
   "metadata": {},
   "outputs": [],
   "source": [
    "sub_reg.to_csv(\"model/sub_reg_base.csv\",index=False)"
   ]
  },
  {
   "cell_type": "markdown",
   "metadata": {},
   "source": [
    "### Calling back Regression Result"
   ]
  },
  {
   "cell_type": "code",
   "execution_count": 38,
   "metadata": {},
   "outputs": [],
   "source": [
    "sub_reg = pd.read_csv(\"model/sub_reg_base.csv\")"
   ]
  },
  {
   "cell_type": "code",
   "execution_count": 39,
   "metadata": {},
   "outputs": [],
   "source": [
    "pred_test = sub_reg.Label"
   ]
  },
  {
   "cell_type": "markdown",
   "metadata": {},
   "source": [
    "### Saving FullvisitorID for creating submission file for aggregation per Customer"
   ]
  },
  {
   "cell_type": "code",
   "execution_count": 40,
   "metadata": {},
   "outputs": [],
   "source": [
    "test_id = dataset_test[\"fullVisitorId\"].values\n",
    "pred_target = pd.DataFrame({\"fullVisitorId\":test_id})"
   ]
  },
  {
   "cell_type": "markdown",
   "metadata": {},
   "source": [
    "### This is the part to get Predict Target value with fullVisitorId"
   ]
  },
  {
   "cell_type": "code",
   "execution_count": 41,
   "metadata": {},
   "outputs": [],
   "source": [
    "# Removing negative values\n",
    "pred_test[pred_test<0] = 0\n",
    "pred_target[\"PredictedLogRevenue\"] = np.expm1(pred_test)\n",
    "pred_target = pred_target.groupby(\"fullVisitorId\")[\"PredictedLogRevenue\"].sum().reset_index()"
   ]
  },
  {
   "cell_type": "markdown",
   "metadata": {},
   "source": [
    "### Submission file ready below!"
   ]
  },
  {
   "cell_type": "code",
   "execution_count": 42,
   "metadata": {},
   "outputs": [],
   "source": [
    "pred_target.columns = [\"fullVisitorId\", \"PredictedLogRevenue\"]\n",
    "pred_target[\"PredictedLogRevenue\"] = np.log1p(pred_target[\"PredictedLogRevenue\"])\n",
    "pred_target.to_csv(\"model/submission_base.csv\", index=False)"
   ]
  },
  {
   "cell_type": "code",
   "execution_count": 43,
   "metadata": {},
   "outputs": [
    {
     "data": {
      "text/html": [
       "<div>\n",
       "<style scoped>\n",
       "    .dataframe tbody tr th:only-of-type {\n",
       "        vertical-align: middle;\n",
       "    }\n",
       "\n",
       "    .dataframe tbody tr th {\n",
       "        vertical-align: top;\n",
       "    }\n",
       "\n",
       "    .dataframe thead th {\n",
       "        text-align: right;\n",
       "    }\n",
       "</style>\n",
       "<table border=\"1\" class=\"dataframe\">\n",
       "  <thead>\n",
       "    <tr style=\"text-align: right;\">\n",
       "      <th></th>\n",
       "      <th>fullVisitorId</th>\n",
       "      <th>PredictedLogRevenue</th>\n",
       "    </tr>\n",
       "  </thead>\n",
       "  <tbody>\n",
       "    <tr>\n",
       "      <th>0</th>\n",
       "      <td>1995526696366</td>\n",
       "      <td>0.150312</td>\n",
       "    </tr>\n",
       "    <tr>\n",
       "      <th>1</th>\n",
       "      <td>16367580689231</td>\n",
       "      <td>0.000000</td>\n",
       "    </tr>\n",
       "    <tr>\n",
       "      <th>2</th>\n",
       "      <td>18966949534117</td>\n",
       "      <td>0.629048</td>\n",
       "    </tr>\n",
       "    <tr>\n",
       "      <th>3</th>\n",
       "      <td>24844201502183</td>\n",
       "      <td>1.603574</td>\n",
       "    </tr>\n",
       "    <tr>\n",
       "      <th>4</th>\n",
       "      <td>24845665201193</td>\n",
       "      <td>0.026738</td>\n",
       "    </tr>\n",
       "  </tbody>\n",
       "</table>\n",
       "</div>"
      ],
      "text/plain": [
       "    fullVisitorId  PredictedLogRevenue\n",
       "0   1995526696366             0.150312\n",
       "1  16367580689231             0.000000\n",
       "2  18966949534117             0.629048\n",
       "3  24844201502183             1.603574\n",
       "4  24845665201193             0.026738"
      ]
     },
     "execution_count": 43,
     "metadata": {},
     "output_type": "execute_result"
    }
   ],
   "source": [
    "# Final submission file\n",
    "pred_target.head()"
   ]
  },
  {
   "cell_type": "markdown",
   "metadata": {},
   "source": [
    "##  RMSE based on Stakeholders Definition"
   ]
  },
  {
   "cell_type": "markdown",
   "metadata": {},
   "source": [
    "### This is the part to get Actual Target with fullVisitorId to compare the previously Predict Target"
   ]
  },
  {
   "cell_type": "code",
   "execution_count": 44,
   "metadata": {},
   "outputs": [
    {
     "data": {
      "text/html": [
       "<div>\n",
       "<style scoped>\n",
       "    .dataframe tbody tr th:only-of-type {\n",
       "        vertical-align: middle;\n",
       "    }\n",
       "\n",
       "    .dataframe tbody tr th {\n",
       "        vertical-align: top;\n",
       "    }\n",
       "\n",
       "    .dataframe thead th {\n",
       "        text-align: right;\n",
       "    }\n",
       "</style>\n",
       "<table border=\"1\" class=\"dataframe\">\n",
       "  <thead>\n",
       "    <tr style=\"text-align: right;\">\n",
       "      <th></th>\n",
       "      <th>fullVisitorId</th>\n",
       "    </tr>\n",
       "  </thead>\n",
       "  <tbody>\n",
       "    <tr>\n",
       "      <th>0</th>\n",
       "      <td>7460955084541987166</td>\n",
       "    </tr>\n",
       "    <tr>\n",
       "      <th>1</th>\n",
       "      <td>460252456180441002</td>\n",
       "    </tr>\n",
       "    <tr>\n",
       "      <th>2</th>\n",
       "      <td>3461808543879602873</td>\n",
       "    </tr>\n",
       "    <tr>\n",
       "      <th>3</th>\n",
       "      <td>975129477712150630</td>\n",
       "    </tr>\n",
       "    <tr>\n",
       "      <th>4</th>\n",
       "      <td>8381672768065729990</td>\n",
       "    </tr>\n",
       "  </tbody>\n",
       "</table>\n",
       "</div>"
      ],
      "text/plain": [
       "         fullVisitorId\n",
       "0  7460955084541987166\n",
       "1   460252456180441002\n",
       "2  3461808543879602873\n",
       "3   975129477712150630\n",
       "4  8381672768065729990"
      ]
     },
     "execution_count": 44,
     "metadata": {},
     "output_type": "execute_result"
    }
   ],
   "source": [
    "act_target = pd.DataFrame({\"fullVisitorId\":test_id})\n",
    "act_target.head()"
   ]
  },
  {
   "cell_type": "code",
   "execution_count": 45,
   "metadata": {},
   "outputs": [],
   "source": [
    "act_target[\"Target_actual\"] = np.expm1(unseen_predictions['Target'])\n",
    "act_target = act_target.groupby(\"fullVisitorId\")[\"Target_actual\"].sum().reset_index()"
   ]
  },
  {
   "cell_type": "code",
   "execution_count": 46,
   "metadata": {},
   "outputs": [
    {
     "data": {
      "text/html": [
       "<div>\n",
       "<style scoped>\n",
       "    .dataframe tbody tr th:only-of-type {\n",
       "        vertical-align: middle;\n",
       "    }\n",
       "\n",
       "    .dataframe tbody tr th {\n",
       "        vertical-align: top;\n",
       "    }\n",
       "\n",
       "    .dataframe thead th {\n",
       "        text-align: right;\n",
       "    }\n",
       "</style>\n",
       "<table border=\"1\" class=\"dataframe\">\n",
       "  <thead>\n",
       "    <tr style=\"text-align: right;\">\n",
       "      <th></th>\n",
       "      <th>fullVisitorId</th>\n",
       "      <th>Target_actual</th>\n",
       "    </tr>\n",
       "  </thead>\n",
       "  <tbody>\n",
       "    <tr>\n",
       "      <th>0</th>\n",
       "      <td>1995526696366</td>\n",
       "      <td>0.693147</td>\n",
       "    </tr>\n",
       "    <tr>\n",
       "      <th>1</th>\n",
       "      <td>16367580689231</td>\n",
       "      <td>0.693147</td>\n",
       "    </tr>\n",
       "    <tr>\n",
       "      <th>2</th>\n",
       "      <td>18966949534117</td>\n",
       "      <td>0.693147</td>\n",
       "    </tr>\n",
       "    <tr>\n",
       "      <th>3</th>\n",
       "      <td>24844201502183</td>\n",
       "      <td>0.693147</td>\n",
       "    </tr>\n",
       "    <tr>\n",
       "      <th>4</th>\n",
       "      <td>24845665201193</td>\n",
       "      <td>0.693147</td>\n",
       "    </tr>\n",
       "  </tbody>\n",
       "</table>\n",
       "</div>"
      ],
      "text/plain": [
       "    fullVisitorId  Target_actual\n",
       "0   1995526696366       0.693147\n",
       "1  16367580689231       0.693147\n",
       "2  18966949534117       0.693147\n",
       "3  24844201502183       0.693147\n",
       "4  24845665201193       0.693147"
      ]
     },
     "execution_count": 46,
     "metadata": {},
     "output_type": "execute_result"
    }
   ],
   "source": [
    "act_target.columns = [\"fullVisitorId\", \"Target_actual\"]\n",
    "act_target[\"Target_actual\"] = np.log1p(1+act_target[\"Target_actual\"])\n",
    "act_target.head()"
   ]
  },
  {
   "cell_type": "code",
   "execution_count": 47,
   "metadata": {},
   "outputs": [],
   "source": [
    "# Defining the RMSE (based on Customer level)\n",
    "RMSE = np.sqrt((sum( (act_target['Target_actual'].values - pred_target['PredictedLogRevenue'].values) **2)) / len(act_target))"
   ]
  },
  {
   "cell_type": "code",
   "execution_count": 48,
   "metadata": {},
   "outputs": [
    {
     "name": "stdout",
     "output_type": "stream",
     "text": [
      "Your RMSE Score is: 2.0521371713467924\n"
     ]
    }
   ],
   "source": [
    "print(f'Your RMSE Score is: {RMSE}')"
   ]
  }
 ],
 "metadata": {
  "kernelspec": {
   "name": "python385jvsc74a57bd09aba9dd27a94ca0ac63174a184b5b4ccc7cd66ca2e1265bbcab7e447cda0e00a",
   "display_name": "Python 3.8.5 64-bit ('.venv')"
  },
  "language_info": {
   "codemirror_mode": {
    "name": "ipython",
    "version": 3
   },
   "file_extension": ".py",
   "mimetype": "text/x-python",
   "name": "python",
   "nbconvert_exporter": "python",
   "pygments_lexer": "ipython3",
   "version": "3.8.5-final"
  }
 },
 "nbformat": 4,
 "nbformat_minor": 4
}