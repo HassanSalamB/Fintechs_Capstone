{
 "cells": [
  {
   "cell_type": "markdown",
   "metadata": {},
   "source": [
    "# Predictive Modelling for Classification"
   ]
  },
  {
   "cell_type": "markdown",
   "metadata": {},
   "source": [
    "## Import libraries"
   ]
  },
  {
   "cell_type": "code",
   "execution_count": 1,
   "metadata": {},
   "outputs": [],
   "source": [
    "import sys\n",
    "# adding to the path variables the one folder higher (locally, not changing system variables)\n",
    "sys.path.append(\"..\")\n",
    "from datetime import datetime\n",
    "import pandas as pd\n",
    "from scripts.helper import reduce_mem_usage\n",
    "from pycaret.classification import *\n",
    "from pycaret.utils import check_metric\n",
    "from pycaret.datasets import get_data\n",
    "import pickle\n",
    "pd.set_option(\"display.max_columns\", 120)"
   ]
  },
  {
   "cell_type": "markdown",
   "metadata": {},
   "source": [
    "## Import data"
   ]
  },
  {
   "cell_type": "code",
   "execution_count": 2,
   "metadata": {},
   "outputs": [],
   "source": [
    "# Create datetime\n",
    "today = datetime.today()\n",
    "d1 = today.strftime(\"%d%m%Y\")"
   ]
  },
  {
   "cell_type": "code",
   "execution_count": 3,
   "metadata": {},
   "outputs": [],
   "source": [
    "# Test dataset from pycaret library for classification modelling\n",
    "# Comment it out if you're using the Capstone dataset!\n",
    "#dataset_pycaret = get_data('credit')\n",
    "dataset = pd.read_csv('data/feat_train_v2.csv')\n",
    "dataset_test = pd.read_csv('data/feat_test_v2.csv')"
   ]
  },
  {
   "cell_type": "code",
   "execution_count": 4,
   "metadata": {},
   "outputs": [],
   "source": [
    "#dataset_pycaret.info()"
   ]
  },
  {
   "cell_type": "markdown",
   "metadata": {},
   "source": [
    "## Preparation for Modelling"
   ]
  },
  {
   "cell_type": "code",
   "execution_count": 5,
   "metadata": {},
   "outputs": [],
   "source": [
    "numerical_cols = np.load(\"data/Numerical_Columns.npy\")\n",
    "categorical_cols = np.load(\"data/Categorical_Columns.npy\")"
   ]
  },
  {
   "cell_type": "code",
   "execution_count": 6,
   "metadata": {},
   "outputs": [
    {
     "data": {
      "text/plain": [
       "numpy.ndarray"
      ]
     },
     "execution_count": 6,
     "metadata": {},
     "output_type": "execute_result"
    }
   ],
   "source": [
    "type(numerical_cols)"
   ]
  },
  {
   "cell_type": "code",
   "execution_count": 7,
   "metadata": {},
   "outputs": [],
   "source": [
    "numerical_cols = numerical_cols.tolist()\n",
    "categorical_cols = categorical_cols.tolist()"
   ]
  },
  {
   "cell_type": "code",
   "execution_count": 8,
   "metadata": {},
   "outputs": [
    {
     "data": {
      "text/plain": [
       "list"
      ]
     },
     "execution_count": 8,
     "metadata": {},
     "output_type": "execute_result"
    }
   ],
   "source": [
    "type(numerical_cols)"
   ]
  },
  {
   "cell_type": "code",
   "execution_count": 9,
   "metadata": {},
   "outputs": [],
   "source": [
    "# Create target for classification model\n",
    "class_train = dataset[categorical_cols+numerical_cols]\n",
    "class_train['Target'] = dataset['totals.transactionRevenue'].apply(lambda x: 0 if x == 0 else 1)\n",
    "\n",
    "class_test = dataset_test[categorical_cols+numerical_cols]\n",
    "class_test['Target'] = dataset_test['totals.transactionRevenue'].apply(lambda x: 0 if x == 0 else 1)"
   ]
  },
  {
   "cell_type": "markdown",
   "metadata": {},
   "source": [
    "### Removing some zeros!"
   ]
  },
  {
   "cell_type": "code",
   "execution_count": 10,
   "metadata": {},
   "outputs": [],
   "source": [
    "totals_transactionRevenue_zero = class_train[class_train['Target'] == 0].sample(frac=0.25, random_state=123)\n",
    "totals_transactionRevenue_nonzero = class_train[class_train['Target'] != 0]\n",
    "class_train = pd.concat([totals_transactionRevenue_zero, totals_transactionRevenue_nonzero], axis=0)"
   ]
  },
  {
   "cell_type": "code",
   "execution_count": 11,
   "metadata": {},
   "outputs": [
    {
     "data": {
      "text/html": [
       "<div>\n",
       "<style scoped>\n",
       "    .dataframe tbody tr th:only-of-type {\n",
       "        vertical-align: middle;\n",
       "    }\n",
       "\n",
       "    .dataframe tbody tr th {\n",
       "        vertical-align: top;\n",
       "    }\n",
       "\n",
       "    .dataframe thead th {\n",
       "        text-align: right;\n",
       "    }\n",
       "</style>\n",
       "<table border=\"1\" class=\"dataframe\">\n",
       "  <thead>\n",
       "    <tr style=\"text-align: right;\">\n",
       "      <th></th>\n",
       "      <th>channelGrouping</th>\n",
       "      <th>device.browser</th>\n",
       "      <th>device.operatingSystem</th>\n",
       "      <th>geoNetwork.city</th>\n",
       "      <th>geoNetwork.country</th>\n",
       "      <th>geoNetwork.networkDomain</th>\n",
       "      <th>geoNetwork.region</th>\n",
       "      <th>trafficSource.adContent</th>\n",
       "      <th>trafficSource.campaign</th>\n",
       "      <th>trafficSource.isTrueDirect</th>\n",
       "      <th>trafficSource.keyword</th>\n",
       "      <th>trafficSource.medium</th>\n",
       "      <th>trafficSource.referralPath</th>\n",
       "      <th>trafficSource.source</th>\n",
       "      <th>visitNumber</th>\n",
       "      <th>device.isMobile</th>\n",
       "      <th>totals.bounces</th>\n",
       "      <th>totals.hits</th>\n",
       "      <th>totals.newVisits</th>\n",
       "      <th>totals.pageviews</th>\n",
       "      <th>Week</th>\n",
       "      <th>Month</th>\n",
       "      <th>hits_mean_city</th>\n",
       "      <th>pageviews_mean_city</th>\n",
       "      <th>Target</th>\n",
       "    </tr>\n",
       "  </thead>\n",
       "  <tbody>\n",
       "    <tr>\n",
       "      <th>1346843</th>\n",
       "      <td>4</td>\n",
       "      <td>55</td>\n",
       "      <td>7</td>\n",
       "      <td>531</td>\n",
       "      <td>218</td>\n",
       "      <td>0</td>\n",
       "      <td>141</td>\n",
       "      <td>48</td>\n",
       "      <td>4</td>\n",
       "      <td>0</td>\n",
       "      <td>8</td>\n",
       "      <td>5</td>\n",
       "      <td>0</td>\n",
       "      <td>117</td>\n",
       "      <td>1.0</td>\n",
       "      <td>0.0</td>\n",
       "      <td>1.0</td>\n",
       "      <td>1.0</td>\n",
       "      <td>1.0</td>\n",
       "      <td>1.0</td>\n",
       "      <td>11.0</td>\n",
       "      <td>3.0</td>\n",
       "      <td>3.0</td>\n",
       "      <td>2.0</td>\n",
       "      <td>0</td>\n",
       "    </tr>\n",
       "    <tr>\n",
       "      <th>91085</th>\n",
       "      <td>7</td>\n",
       "      <td>102</td>\n",
       "      <td>7</td>\n",
       "      <td>436</td>\n",
       "      <td>211</td>\n",
       "      <td>43282</td>\n",
       "      <td>210</td>\n",
       "      <td>48</td>\n",
       "      <td>4</td>\n",
       "      <td>0</td>\n",
       "      <td>8</td>\n",
       "      <td>6</td>\n",
       "      <td>3193</td>\n",
       "      <td>386</td>\n",
       "      <td>1.0</td>\n",
       "      <td>0.0</td>\n",
       "      <td>1.0</td>\n",
       "      <td>1.0</td>\n",
       "      <td>1.0</td>\n",
       "      <td>1.0</td>\n",
       "      <td>41.0</td>\n",
       "      <td>10.0</td>\n",
       "      <td>2.0</td>\n",
       "      <td>2.0</td>\n",
       "      <td>0</td>\n",
       "    </tr>\n",
       "    <tr>\n",
       "      <th>1566695</th>\n",
       "      <td>6</td>\n",
       "      <td>55</td>\n",
       "      <td>7</td>\n",
       "      <td>1096</td>\n",
       "      <td>219</td>\n",
       "      <td>9601</td>\n",
       "      <td>517</td>\n",
       "      <td>48</td>\n",
       "      <td>4</td>\n",
       "      <td>0</td>\n",
       "      <td>8</td>\n",
       "      <td>0</td>\n",
       "      <td>2</td>\n",
       "      <td>0</td>\n",
       "      <td>1.0</td>\n",
       "      <td>0.0</td>\n",
       "      <td>0.0</td>\n",
       "      <td>4.0</td>\n",
       "      <td>1.0</td>\n",
       "      <td>4.0</td>\n",
       "      <td>42.0</td>\n",
       "      <td>10.0</td>\n",
       "      <td>4.0</td>\n",
       "      <td>3.0</td>\n",
       "      <td>0</td>\n",
       "    </tr>\n",
       "    <tr>\n",
       "      <th>1092396</th>\n",
       "      <td>3</td>\n",
       "      <td>55</td>\n",
       "      <td>1</td>\n",
       "      <td>1096</td>\n",
       "      <td>219</td>\n",
       "      <td>39437</td>\n",
       "      <td>517</td>\n",
       "      <td>37</td>\n",
       "      <td>6</td>\n",
       "      <td>1</td>\n",
       "      <td>5</td>\n",
       "      <td>3</td>\n",
       "      <td>0</td>\n",
       "      <td>117</td>\n",
       "      <td>2.0</td>\n",
       "      <td>1.0</td>\n",
       "      <td>1.0</td>\n",
       "      <td>1.0</td>\n",
       "      <td>0.0</td>\n",
       "      <td>1.0</td>\n",
       "      <td>34.0</td>\n",
       "      <td>8.0</td>\n",
       "      <td>4.0</td>\n",
       "      <td>3.0</td>\n",
       "      <td>0</td>\n",
       "    </tr>\n",
       "    <tr>\n",
       "      <th>1706822</th>\n",
       "      <td>4</td>\n",
       "      <td>102</td>\n",
       "      <td>25</td>\n",
       "      <td>1096</td>\n",
       "      <td>161</td>\n",
       "      <td>44691</td>\n",
       "      <td>517</td>\n",
       "      <td>48</td>\n",
       "      <td>4</td>\n",
       "      <td>0</td>\n",
       "      <td>8</td>\n",
       "      <td>0</td>\n",
       "      <td>0</td>\n",
       "      <td>0</td>\n",
       "      <td>1.0</td>\n",
       "      <td>1.0</td>\n",
       "      <td>0.0</td>\n",
       "      <td>2.0</td>\n",
       "      <td>1.0</td>\n",
       "      <td>2.0</td>\n",
       "      <td>1.0</td>\n",
       "      <td>1.0</td>\n",
       "      <td>4.0</td>\n",
       "      <td>3.0</td>\n",
       "      <td>0</td>\n",
       "    </tr>\n",
       "  </tbody>\n",
       "</table>\n",
       "</div>"
      ],
      "text/plain": [
       "         channelGrouping  device.browser  device.operatingSystem  \\\n",
       "1346843                4              55                       7   \n",
       "91085                  7             102                       7   \n",
       "1566695                6              55                       7   \n",
       "1092396                3              55                       1   \n",
       "1706822                4             102                      25   \n",
       "\n",
       "         geoNetwork.city  geoNetwork.country  geoNetwork.networkDomain  \\\n",
       "1346843              531                 218                         0   \n",
       "91085                436                 211                     43282   \n",
       "1566695             1096                 219                      9601   \n",
       "1092396             1096                 219                     39437   \n",
       "1706822             1096                 161                     44691   \n",
       "\n",
       "         geoNetwork.region  trafficSource.adContent  trafficSource.campaign  \\\n",
       "1346843                141                       48                       4   \n",
       "91085                  210                       48                       4   \n",
       "1566695                517                       48                       4   \n",
       "1092396                517                       37                       6   \n",
       "1706822                517                       48                       4   \n",
       "\n",
       "         trafficSource.isTrueDirect  trafficSource.keyword  \\\n",
       "1346843                           0                      8   \n",
       "91085                             0                      8   \n",
       "1566695                           0                      8   \n",
       "1092396                           1                      5   \n",
       "1706822                           0                      8   \n",
       "\n",
       "         trafficSource.medium  trafficSource.referralPath  \\\n",
       "1346843                     5                           0   \n",
       "91085                       6                        3193   \n",
       "1566695                     0                           2   \n",
       "1092396                     3                           0   \n",
       "1706822                     0                           0   \n",
       "\n",
       "         trafficSource.source  visitNumber  device.isMobile  totals.bounces  \\\n",
       "1346843                   117          1.0              0.0             1.0   \n",
       "91085                     386          1.0              0.0             1.0   \n",
       "1566695                     0          1.0              0.0             0.0   \n",
       "1092396                   117          2.0              1.0             1.0   \n",
       "1706822                     0          1.0              1.0             0.0   \n",
       "\n",
       "         totals.hits  totals.newVisits  totals.pageviews  Week  Month  \\\n",
       "1346843          1.0               1.0               1.0  11.0    3.0   \n",
       "91085            1.0               1.0               1.0  41.0   10.0   \n",
       "1566695          4.0               1.0               4.0  42.0   10.0   \n",
       "1092396          1.0               0.0               1.0  34.0    8.0   \n",
       "1706822          2.0               1.0               2.0   1.0    1.0   \n",
       "\n",
       "         hits_mean_city  pageviews_mean_city  Target  \n",
       "1346843             3.0                  2.0       0  \n",
       "91085               2.0                  2.0       0  \n",
       "1566695             4.0                  3.0       0  \n",
       "1092396             4.0                  3.0       0  \n",
       "1706822             4.0                  3.0       0  "
      ]
     },
     "execution_count": 11,
     "metadata": {},
     "output_type": "execute_result"
    }
   ],
   "source": [
    "class_train.head()"
   ]
  },
  {
   "cell_type": "markdown",
   "metadata": {},
   "source": []
  },
  {
   "cell_type": "markdown",
   "metadata": {},
   "source": [
    "## Binary Classification"
   ]
  },
  {
   "cell_type": "markdown",
   "metadata": {},
   "source": [
    "Binary classification is a supervised machine learning technique where the goal is to predict categorical class labels which are discrete and unoredered such as Pass/Fail, Positive/Negative, Default/Not-Default etc. A few real world use cases for classification are listed below:\n",
    "\n",
    "Medical testing to determine if a patient has a certain disease or not - the classification property is the presence of the disease.\n",
    "A \"pass or fail\" test method or quality control in factories, i.e. deciding if a specification has or has not been met – a go/no-go classification.\n",
    "Information retrieval, namely deciding whether a page or an article should be in the result set of a search or not – the classification property is the relevance of the article, or the usefulness to the user."
   ]
  },
  {
   "cell_type": "markdown",
   "metadata": {},
   "source": [
    "In order to demonstrate the predict_model() function on unseen data, a sample of xxxxx records has been withheld from the original dataset to be used for predictions. This should not be confused with a train/test split as this particular split is performed to simulate a real life scenario. Another way to think about this is that these xxxxx records are not available at the time when the machine learning experiment was performed."
   ]
  },
  {
   "cell_type": "code",
   "execution_count": 12,
   "metadata": {},
   "outputs": [
    {
     "name": "stdout",
     "output_type": "stream",
     "text": [
      "Data for Modeling: (440970, 25)\n",
      "Unseen Data For Predictions: (401589, 25)\n"
     ]
    }
   ],
   "source": [
    "\n",
    "data_unseen = class_test\n",
    "#data.reset_index(inplace=True, drop=True)\n",
    "#data_unseen.reset_index(inplace=True, drop=True)\n",
    "print('Data for Modeling: ' + str(class_train.shape))\n",
    "print('Unseen Data For Predictions: ' + str(data_unseen.shape))\n"
   ]
  },
  {
   "cell_type": "markdown",
   "metadata": {},
   "source": [
    "## 1.0 Setting up environment in PyCaret"
   ]
  },
  {
   "cell_type": "markdown",
   "metadata": {},
   "source": [
    "The setup() function initializes the environment in pycaret and creates the transformation pipeline to prepare the data for modeling and deployment. setup() must be called before executing any other function in pycaret. It takes two mandatory parameters: a pandas dataframe and the name of the target column. All other parameters are optional and are used to customize the pre-processing pipeline.\n",
    "\n",
    "When setup() is executed, PyCaret's inference algorithm will automatically infer the data types for all features based on certain properties. The data type should be inferred correctly but this is not always the case. To account for this, PyCaret displays a table containing the features and their inferred data types after setup() is executed. If all of the data types are correctly identified enter can be pressed to continue or quit can be typed to end the expriment. Ensuring that the data types are correct is of fundamental importance in PyCaret as it automatically performs a few pre-processing tasks which are imperative to any machine learning experiment. These tasks are performed differently for each data type which means it is very important for them to be correctly configured."
   ]
  },
  {
   "cell_type": "code",
   "execution_count": 13,
   "metadata": {},
   "outputs": [
    {
     "name": "stdout",
     "output_type": "stream",
     "text": [
      "<class 'pandas.core.frame.DataFrame'>\n",
      "Int64Index: 440970 entries, 1346843 to 1708001\n",
      "Data columns (total 25 columns):\n",
      " #   Column                      Non-Null Count   Dtype  \n",
      "---  ------                      --------------   -----  \n",
      " 0   channelGrouping             440970 non-null  int64  \n",
      " 1   device.browser              440970 non-null  int64  \n",
      " 2   device.operatingSystem      440970 non-null  int64  \n",
      " 3   geoNetwork.city             440970 non-null  int64  \n",
      " 4   geoNetwork.country          440970 non-null  int64  \n",
      " 5   geoNetwork.networkDomain    440970 non-null  int64  \n",
      " 6   geoNetwork.region           440970 non-null  int64  \n",
      " 7   trafficSource.adContent     440970 non-null  int64  \n",
      " 8   trafficSource.campaign      440970 non-null  int64  \n",
      " 9   trafficSource.isTrueDirect  440970 non-null  int64  \n",
      " 10  trafficSource.keyword       440970 non-null  int64  \n",
      " 11  trafficSource.medium        440970 non-null  int64  \n",
      " 12  trafficSource.referralPath  440970 non-null  int64  \n",
      " 13  trafficSource.source        440970 non-null  int64  \n",
      " 14  visitNumber                 440970 non-null  float64\n",
      " 15  device.isMobile             440970 non-null  float64\n",
      " 16  totals.bounces              440970 non-null  float64\n",
      " 17  totals.hits                 440970 non-null  float64\n",
      " 18  totals.newVisits            440970 non-null  float64\n",
      " 19  totals.pageviews            440970 non-null  float64\n",
      " 20  Week                        440970 non-null  float64\n",
      " 21  Month                       440970 non-null  float64\n",
      " 22  hits_mean_city              440970 non-null  float64\n",
      " 23  pageviews_mean_city         440970 non-null  float64\n",
      " 24  Target                      440970 non-null  int64  \n",
      "dtypes: float64(10), int64(15)\n",
      "memory usage: 87.5 MB\n",
      "None\n"
     ]
    }
   ],
   "source": [
    "print(class_train.info())\n",
    "# class_train[categorical_cols] = class_train[categorical_cols].astype('category')\n",
    "# class_test[categorical_cols] = class_test[categorical_cols].astype('category')"
   ]
  },
  {
   "cell_type": "code",
   "execution_count": 14,
   "metadata": {},
   "outputs": [
    {
     "data": {
      "text/html": [
       "<style  type=\"text/css\" >\n",
       "#T_880c1_row57_col1{\n",
       "            background-color:  lightgreen;\n",
       "        }</style><table id=\"T_880c1_\" ><thead>    <tr>        <th class=\"blank level0\" ></th>        <th class=\"col_heading level0 col0\" >Description</th>        <th class=\"col_heading level0 col1\" >Value</th>    </tr></thead><tbody>\n",
       "                <tr>\n",
       "                        <th id=\"T_880c1_level0_row0\" class=\"row_heading level0 row0\" >0</th>\n",
       "                        <td id=\"T_880c1_row0_col0\" class=\"data row0 col0\" >session_id</td>\n",
       "                        <td id=\"T_880c1_row0_col1\" class=\"data row0 col1\" >123</td>\n",
       "            </tr>\n",
       "            <tr>\n",
       "                        <th id=\"T_880c1_level0_row1\" class=\"row_heading level0 row1\" >1</th>\n",
       "                        <td id=\"T_880c1_row1_col0\" class=\"data row1 col0\" >Target</td>\n",
       "                        <td id=\"T_880c1_row1_col1\" class=\"data row1 col1\" >Target</td>\n",
       "            </tr>\n",
       "            <tr>\n",
       "                        <th id=\"T_880c1_level0_row2\" class=\"row_heading level0 row2\" >2</th>\n",
       "                        <td id=\"T_880c1_row2_col0\" class=\"data row2 col0\" >Target Type</td>\n",
       "                        <td id=\"T_880c1_row2_col1\" class=\"data row2 col1\" >Binary</td>\n",
       "            </tr>\n",
       "            <tr>\n",
       "                        <th id=\"T_880c1_level0_row3\" class=\"row_heading level0 row3\" >3</th>\n",
       "                        <td id=\"T_880c1_row3_col0\" class=\"data row3 col0\" >Label Encoded</td>\n",
       "                        <td id=\"T_880c1_row3_col1\" class=\"data row3 col1\" >0: 0, 1: 1</td>\n",
       "            </tr>\n",
       "            <tr>\n",
       "                        <th id=\"T_880c1_level0_row4\" class=\"row_heading level0 row4\" >4</th>\n",
       "                        <td id=\"T_880c1_row4_col0\" class=\"data row4 col0\" >Original Data</td>\n",
       "                        <td id=\"T_880c1_row4_col1\" class=\"data row4 col1\" >(440970, 25)</td>\n",
       "            </tr>\n",
       "            <tr>\n",
       "                        <th id=\"T_880c1_level0_row5\" class=\"row_heading level0 row5\" >5</th>\n",
       "                        <td id=\"T_880c1_row5_col0\" class=\"data row5 col0\" >Missing Values</td>\n",
       "                        <td id=\"T_880c1_row5_col1\" class=\"data row5 col1\" >False</td>\n",
       "            </tr>\n",
       "            <tr>\n",
       "                        <th id=\"T_880c1_level0_row6\" class=\"row_heading level0 row6\" >6</th>\n",
       "                        <td id=\"T_880c1_row6_col0\" class=\"data row6 col0\" >Numeric Features</td>\n",
       "                        <td id=\"T_880c1_row6_col1\" class=\"data row6 col1\" >24</td>\n",
       "            </tr>\n",
       "            <tr>\n",
       "                        <th id=\"T_880c1_level0_row7\" class=\"row_heading level0 row7\" >7</th>\n",
       "                        <td id=\"T_880c1_row7_col0\" class=\"data row7 col0\" >Categorical Features</td>\n",
       "                        <td id=\"T_880c1_row7_col1\" class=\"data row7 col1\" >0</td>\n",
       "            </tr>\n",
       "            <tr>\n",
       "                        <th id=\"T_880c1_level0_row8\" class=\"row_heading level0 row8\" >8</th>\n",
       "                        <td id=\"T_880c1_row8_col0\" class=\"data row8 col0\" >Ordinal Features</td>\n",
       "                        <td id=\"T_880c1_row8_col1\" class=\"data row8 col1\" >False</td>\n",
       "            </tr>\n",
       "            <tr>\n",
       "                        <th id=\"T_880c1_level0_row9\" class=\"row_heading level0 row9\" >9</th>\n",
       "                        <td id=\"T_880c1_row9_col0\" class=\"data row9 col0\" >High Cardinality Features</td>\n",
       "                        <td id=\"T_880c1_row9_col1\" class=\"data row9 col1\" >False</td>\n",
       "            </tr>\n",
       "            <tr>\n",
       "                        <th id=\"T_880c1_level0_row10\" class=\"row_heading level0 row10\" >10</th>\n",
       "                        <td id=\"T_880c1_row10_col0\" class=\"data row10 col0\" >High Cardinality Method</td>\n",
       "                        <td id=\"T_880c1_row10_col1\" class=\"data row10 col1\" >None</td>\n",
       "            </tr>\n",
       "            <tr>\n",
       "                        <th id=\"T_880c1_level0_row11\" class=\"row_heading level0 row11\" >11</th>\n",
       "                        <td id=\"T_880c1_row11_col0\" class=\"data row11 col0\" >Transformed Train Set</td>\n",
       "                        <td id=\"T_880c1_row11_col1\" class=\"data row11 col1\" >(308678, 24)</td>\n",
       "            </tr>\n",
       "            <tr>\n",
       "                        <th id=\"T_880c1_level0_row12\" class=\"row_heading level0 row12\" >12</th>\n",
       "                        <td id=\"T_880c1_row12_col0\" class=\"data row12 col0\" >Transformed Test Set</td>\n",
       "                        <td id=\"T_880c1_row12_col1\" class=\"data row12 col1\" >(132292, 24)</td>\n",
       "            </tr>\n",
       "            <tr>\n",
       "                        <th id=\"T_880c1_level0_row13\" class=\"row_heading level0 row13\" >13</th>\n",
       "                        <td id=\"T_880c1_row13_col0\" class=\"data row13 col0\" >Shuffle Train-Test</td>\n",
       "                        <td id=\"T_880c1_row13_col1\" class=\"data row13 col1\" >True</td>\n",
       "            </tr>\n",
       "            <tr>\n",
       "                        <th id=\"T_880c1_level0_row14\" class=\"row_heading level0 row14\" >14</th>\n",
       "                        <td id=\"T_880c1_row14_col0\" class=\"data row14 col0\" >Stratify Train-Test</td>\n",
       "                        <td id=\"T_880c1_row14_col1\" class=\"data row14 col1\" >True</td>\n",
       "            </tr>\n",
       "            <tr>\n",
       "                        <th id=\"T_880c1_level0_row15\" class=\"row_heading level0 row15\" >15</th>\n",
       "                        <td id=\"T_880c1_row15_col0\" class=\"data row15 col0\" >Fold Generator</td>\n",
       "                        <td id=\"T_880c1_row15_col1\" class=\"data row15 col1\" >StratifiedKFold</td>\n",
       "            </tr>\n",
       "            <tr>\n",
       "                        <th id=\"T_880c1_level0_row16\" class=\"row_heading level0 row16\" >16</th>\n",
       "                        <td id=\"T_880c1_row16_col0\" class=\"data row16 col0\" >Fold Number</td>\n",
       "                        <td id=\"T_880c1_row16_col1\" class=\"data row16 col1\" >10</td>\n",
       "            </tr>\n",
       "            <tr>\n",
       "                        <th id=\"T_880c1_level0_row17\" class=\"row_heading level0 row17\" >17</th>\n",
       "                        <td id=\"T_880c1_row17_col0\" class=\"data row17 col0\" >CPU Jobs</td>\n",
       "                        <td id=\"T_880c1_row17_col1\" class=\"data row17 col1\" >-1</td>\n",
       "            </tr>\n",
       "            <tr>\n",
       "                        <th id=\"T_880c1_level0_row18\" class=\"row_heading level0 row18\" >18</th>\n",
       "                        <td id=\"T_880c1_row18_col0\" class=\"data row18 col0\" >Use GPU</td>\n",
       "                        <td id=\"T_880c1_row18_col1\" class=\"data row18 col1\" >False</td>\n",
       "            </tr>\n",
       "            <tr>\n",
       "                        <th id=\"T_880c1_level0_row19\" class=\"row_heading level0 row19\" >19</th>\n",
       "                        <td id=\"T_880c1_row19_col0\" class=\"data row19 col0\" >Log Experiment</td>\n",
       "                        <td id=\"T_880c1_row19_col1\" class=\"data row19 col1\" >False</td>\n",
       "            </tr>\n",
       "            <tr>\n",
       "                        <th id=\"T_880c1_level0_row20\" class=\"row_heading level0 row20\" >20</th>\n",
       "                        <td id=\"T_880c1_row20_col0\" class=\"data row20 col0\" >Experiment Name</td>\n",
       "                        <td id=\"T_880c1_row20_col1\" class=\"data row20 col1\" >clf-default-name</td>\n",
       "            </tr>\n",
       "            <tr>\n",
       "                        <th id=\"T_880c1_level0_row21\" class=\"row_heading level0 row21\" >21</th>\n",
       "                        <td id=\"T_880c1_row21_col0\" class=\"data row21 col0\" >USI</td>\n",
       "                        <td id=\"T_880c1_row21_col1\" class=\"data row21 col1\" >358b</td>\n",
       "            </tr>\n",
       "            <tr>\n",
       "                        <th id=\"T_880c1_level0_row22\" class=\"row_heading level0 row22\" >22</th>\n",
       "                        <td id=\"T_880c1_row22_col0\" class=\"data row22 col0\" >Imputation Type</td>\n",
       "                        <td id=\"T_880c1_row22_col1\" class=\"data row22 col1\" >simple</td>\n",
       "            </tr>\n",
       "            <tr>\n",
       "                        <th id=\"T_880c1_level0_row23\" class=\"row_heading level0 row23\" >23</th>\n",
       "                        <td id=\"T_880c1_row23_col0\" class=\"data row23 col0\" >Iterative Imputation Iteration</td>\n",
       "                        <td id=\"T_880c1_row23_col1\" class=\"data row23 col1\" >None</td>\n",
       "            </tr>\n",
       "            <tr>\n",
       "                        <th id=\"T_880c1_level0_row24\" class=\"row_heading level0 row24\" >24</th>\n",
       "                        <td id=\"T_880c1_row24_col0\" class=\"data row24 col0\" >Numeric Imputer</td>\n",
       "                        <td id=\"T_880c1_row24_col1\" class=\"data row24 col1\" >mean</td>\n",
       "            </tr>\n",
       "            <tr>\n",
       "                        <th id=\"T_880c1_level0_row25\" class=\"row_heading level0 row25\" >25</th>\n",
       "                        <td id=\"T_880c1_row25_col0\" class=\"data row25 col0\" >Iterative Imputation Numeric Model</td>\n",
       "                        <td id=\"T_880c1_row25_col1\" class=\"data row25 col1\" >None</td>\n",
       "            </tr>\n",
       "            <tr>\n",
       "                        <th id=\"T_880c1_level0_row26\" class=\"row_heading level0 row26\" >26</th>\n",
       "                        <td id=\"T_880c1_row26_col0\" class=\"data row26 col0\" >Categorical Imputer</td>\n",
       "                        <td id=\"T_880c1_row26_col1\" class=\"data row26 col1\" >constant</td>\n",
       "            </tr>\n",
       "            <tr>\n",
       "                        <th id=\"T_880c1_level0_row27\" class=\"row_heading level0 row27\" >27</th>\n",
       "                        <td id=\"T_880c1_row27_col0\" class=\"data row27 col0\" >Iterative Imputation Categorical Model</td>\n",
       "                        <td id=\"T_880c1_row27_col1\" class=\"data row27 col1\" >None</td>\n",
       "            </tr>\n",
       "            <tr>\n",
       "                        <th id=\"T_880c1_level0_row28\" class=\"row_heading level0 row28\" >28</th>\n",
       "                        <td id=\"T_880c1_row28_col0\" class=\"data row28 col0\" >Unknown Categoricals Handling</td>\n",
       "                        <td id=\"T_880c1_row28_col1\" class=\"data row28 col1\" >least_frequent</td>\n",
       "            </tr>\n",
       "            <tr>\n",
       "                        <th id=\"T_880c1_level0_row29\" class=\"row_heading level0 row29\" >29</th>\n",
       "                        <td id=\"T_880c1_row29_col0\" class=\"data row29 col0\" >Normalize</td>\n",
       "                        <td id=\"T_880c1_row29_col1\" class=\"data row29 col1\" >False</td>\n",
       "            </tr>\n",
       "            <tr>\n",
       "                        <th id=\"T_880c1_level0_row30\" class=\"row_heading level0 row30\" >30</th>\n",
       "                        <td id=\"T_880c1_row30_col0\" class=\"data row30 col0\" >Normalize Method</td>\n",
       "                        <td id=\"T_880c1_row30_col1\" class=\"data row30 col1\" >None</td>\n",
       "            </tr>\n",
       "            <tr>\n",
       "                        <th id=\"T_880c1_level0_row31\" class=\"row_heading level0 row31\" >31</th>\n",
       "                        <td id=\"T_880c1_row31_col0\" class=\"data row31 col0\" >Transformation</td>\n",
       "                        <td id=\"T_880c1_row31_col1\" class=\"data row31 col1\" >False</td>\n",
       "            </tr>\n",
       "            <tr>\n",
       "                        <th id=\"T_880c1_level0_row32\" class=\"row_heading level0 row32\" >32</th>\n",
       "                        <td id=\"T_880c1_row32_col0\" class=\"data row32 col0\" >Transformation Method</td>\n",
       "                        <td id=\"T_880c1_row32_col1\" class=\"data row32 col1\" >None</td>\n",
       "            </tr>\n",
       "            <tr>\n",
       "                        <th id=\"T_880c1_level0_row33\" class=\"row_heading level0 row33\" >33</th>\n",
       "                        <td id=\"T_880c1_row33_col0\" class=\"data row33 col0\" >PCA</td>\n",
       "                        <td id=\"T_880c1_row33_col1\" class=\"data row33 col1\" >False</td>\n",
       "            </tr>\n",
       "            <tr>\n",
       "                        <th id=\"T_880c1_level0_row34\" class=\"row_heading level0 row34\" >34</th>\n",
       "                        <td id=\"T_880c1_row34_col0\" class=\"data row34 col0\" >PCA Method</td>\n",
       "                        <td id=\"T_880c1_row34_col1\" class=\"data row34 col1\" >None</td>\n",
       "            </tr>\n",
       "            <tr>\n",
       "                        <th id=\"T_880c1_level0_row35\" class=\"row_heading level0 row35\" >35</th>\n",
       "                        <td id=\"T_880c1_row35_col0\" class=\"data row35 col0\" >PCA Components</td>\n",
       "                        <td id=\"T_880c1_row35_col1\" class=\"data row35 col1\" >None</td>\n",
       "            </tr>\n",
       "            <tr>\n",
       "                        <th id=\"T_880c1_level0_row36\" class=\"row_heading level0 row36\" >36</th>\n",
       "                        <td id=\"T_880c1_row36_col0\" class=\"data row36 col0\" >Ignore Low Variance</td>\n",
       "                        <td id=\"T_880c1_row36_col1\" class=\"data row36 col1\" >False</td>\n",
       "            </tr>\n",
       "            <tr>\n",
       "                        <th id=\"T_880c1_level0_row37\" class=\"row_heading level0 row37\" >37</th>\n",
       "                        <td id=\"T_880c1_row37_col0\" class=\"data row37 col0\" >Combine Rare Levels</td>\n",
       "                        <td id=\"T_880c1_row37_col1\" class=\"data row37 col1\" >False</td>\n",
       "            </tr>\n",
       "            <tr>\n",
       "                        <th id=\"T_880c1_level0_row38\" class=\"row_heading level0 row38\" >38</th>\n",
       "                        <td id=\"T_880c1_row38_col0\" class=\"data row38 col0\" >Rare Level Threshold</td>\n",
       "                        <td id=\"T_880c1_row38_col1\" class=\"data row38 col1\" >None</td>\n",
       "            </tr>\n",
       "            <tr>\n",
       "                        <th id=\"T_880c1_level0_row39\" class=\"row_heading level0 row39\" >39</th>\n",
       "                        <td id=\"T_880c1_row39_col0\" class=\"data row39 col0\" >Numeric Binning</td>\n",
       "                        <td id=\"T_880c1_row39_col1\" class=\"data row39 col1\" >False</td>\n",
       "            </tr>\n",
       "            <tr>\n",
       "                        <th id=\"T_880c1_level0_row40\" class=\"row_heading level0 row40\" >40</th>\n",
       "                        <td id=\"T_880c1_row40_col0\" class=\"data row40 col0\" >Remove Outliers</td>\n",
       "                        <td id=\"T_880c1_row40_col1\" class=\"data row40 col1\" >False</td>\n",
       "            </tr>\n",
       "            <tr>\n",
       "                        <th id=\"T_880c1_level0_row41\" class=\"row_heading level0 row41\" >41</th>\n",
       "                        <td id=\"T_880c1_row41_col0\" class=\"data row41 col0\" >Outliers Threshold</td>\n",
       "                        <td id=\"T_880c1_row41_col1\" class=\"data row41 col1\" >None</td>\n",
       "            </tr>\n",
       "            <tr>\n",
       "                        <th id=\"T_880c1_level0_row42\" class=\"row_heading level0 row42\" >42</th>\n",
       "                        <td id=\"T_880c1_row42_col0\" class=\"data row42 col0\" >Remove Multicollinearity</td>\n",
       "                        <td id=\"T_880c1_row42_col1\" class=\"data row42 col1\" >False</td>\n",
       "            </tr>\n",
       "            <tr>\n",
       "                        <th id=\"T_880c1_level0_row43\" class=\"row_heading level0 row43\" >43</th>\n",
       "                        <td id=\"T_880c1_row43_col0\" class=\"data row43 col0\" >Multicollinearity Threshold</td>\n",
       "                        <td id=\"T_880c1_row43_col1\" class=\"data row43 col1\" >None</td>\n",
       "            </tr>\n",
       "            <tr>\n",
       "                        <th id=\"T_880c1_level0_row44\" class=\"row_heading level0 row44\" >44</th>\n",
       "                        <td id=\"T_880c1_row44_col0\" class=\"data row44 col0\" >Clustering</td>\n",
       "                        <td id=\"T_880c1_row44_col1\" class=\"data row44 col1\" >False</td>\n",
       "            </tr>\n",
       "            <tr>\n",
       "                        <th id=\"T_880c1_level0_row45\" class=\"row_heading level0 row45\" >45</th>\n",
       "                        <td id=\"T_880c1_row45_col0\" class=\"data row45 col0\" >Clustering Iteration</td>\n",
       "                        <td id=\"T_880c1_row45_col1\" class=\"data row45 col1\" >None</td>\n",
       "            </tr>\n",
       "            <tr>\n",
       "                        <th id=\"T_880c1_level0_row46\" class=\"row_heading level0 row46\" >46</th>\n",
       "                        <td id=\"T_880c1_row46_col0\" class=\"data row46 col0\" >Polynomial Features</td>\n",
       "                        <td id=\"T_880c1_row46_col1\" class=\"data row46 col1\" >False</td>\n",
       "            </tr>\n",
       "            <tr>\n",
       "                        <th id=\"T_880c1_level0_row47\" class=\"row_heading level0 row47\" >47</th>\n",
       "                        <td id=\"T_880c1_row47_col0\" class=\"data row47 col0\" >Polynomial Degree</td>\n",
       "                        <td id=\"T_880c1_row47_col1\" class=\"data row47 col1\" >None</td>\n",
       "            </tr>\n",
       "            <tr>\n",
       "                        <th id=\"T_880c1_level0_row48\" class=\"row_heading level0 row48\" >48</th>\n",
       "                        <td id=\"T_880c1_row48_col0\" class=\"data row48 col0\" >Trignometry Features</td>\n",
       "                        <td id=\"T_880c1_row48_col1\" class=\"data row48 col1\" >False</td>\n",
       "            </tr>\n",
       "            <tr>\n",
       "                        <th id=\"T_880c1_level0_row49\" class=\"row_heading level0 row49\" >49</th>\n",
       "                        <td id=\"T_880c1_row49_col0\" class=\"data row49 col0\" >Polynomial Threshold</td>\n",
       "                        <td id=\"T_880c1_row49_col1\" class=\"data row49 col1\" >None</td>\n",
       "            </tr>\n",
       "            <tr>\n",
       "                        <th id=\"T_880c1_level0_row50\" class=\"row_heading level0 row50\" >50</th>\n",
       "                        <td id=\"T_880c1_row50_col0\" class=\"data row50 col0\" >Group Features</td>\n",
       "                        <td id=\"T_880c1_row50_col1\" class=\"data row50 col1\" >False</td>\n",
       "            </tr>\n",
       "            <tr>\n",
       "                        <th id=\"T_880c1_level0_row51\" class=\"row_heading level0 row51\" >51</th>\n",
       "                        <td id=\"T_880c1_row51_col0\" class=\"data row51 col0\" >Feature Selection</td>\n",
       "                        <td id=\"T_880c1_row51_col1\" class=\"data row51 col1\" >False</td>\n",
       "            </tr>\n",
       "            <tr>\n",
       "                        <th id=\"T_880c1_level0_row52\" class=\"row_heading level0 row52\" >52</th>\n",
       "                        <td id=\"T_880c1_row52_col0\" class=\"data row52 col0\" >Feature Selection Method</td>\n",
       "                        <td id=\"T_880c1_row52_col1\" class=\"data row52 col1\" >classic</td>\n",
       "            </tr>\n",
       "            <tr>\n",
       "                        <th id=\"T_880c1_level0_row53\" class=\"row_heading level0 row53\" >53</th>\n",
       "                        <td id=\"T_880c1_row53_col0\" class=\"data row53 col0\" >Features Selection Threshold</td>\n",
       "                        <td id=\"T_880c1_row53_col1\" class=\"data row53 col1\" >None</td>\n",
       "            </tr>\n",
       "            <tr>\n",
       "                        <th id=\"T_880c1_level0_row54\" class=\"row_heading level0 row54\" >54</th>\n",
       "                        <td id=\"T_880c1_row54_col0\" class=\"data row54 col0\" >Feature Interaction</td>\n",
       "                        <td id=\"T_880c1_row54_col1\" class=\"data row54 col1\" >False</td>\n",
       "            </tr>\n",
       "            <tr>\n",
       "                        <th id=\"T_880c1_level0_row55\" class=\"row_heading level0 row55\" >55</th>\n",
       "                        <td id=\"T_880c1_row55_col0\" class=\"data row55 col0\" >Feature Ratio</td>\n",
       "                        <td id=\"T_880c1_row55_col1\" class=\"data row55 col1\" >False</td>\n",
       "            </tr>\n",
       "            <tr>\n",
       "                        <th id=\"T_880c1_level0_row56\" class=\"row_heading level0 row56\" >56</th>\n",
       "                        <td id=\"T_880c1_row56_col0\" class=\"data row56 col0\" >Interaction Threshold</td>\n",
       "                        <td id=\"T_880c1_row56_col1\" class=\"data row56 col1\" >None</td>\n",
       "            </tr>\n",
       "            <tr>\n",
       "                        <th id=\"T_880c1_level0_row57\" class=\"row_heading level0 row57\" >57</th>\n",
       "                        <td id=\"T_880c1_row57_col0\" class=\"data row57 col0\" >Fix Imbalance</td>\n",
       "                        <td id=\"T_880c1_row57_col1\" class=\"data row57 col1\" >True</td>\n",
       "            </tr>\n",
       "            <tr>\n",
       "                        <th id=\"T_880c1_level0_row58\" class=\"row_heading level0 row58\" >58</th>\n",
       "                        <td id=\"T_880c1_row58_col0\" class=\"data row58 col0\" >Fix Imbalance Method</td>\n",
       "                        <td id=\"T_880c1_row58_col1\" class=\"data row58 col1\" >SMOTE</td>\n",
       "            </tr>\n",
       "    </tbody></table>"
      ],
      "text/plain": [
       "<pandas.io.formats.style.Styler at 0x131d3ad00>"
      ]
     },
     "metadata": {},
     "output_type": "display_data"
    }
   ],
   "source": [
    "exp_clf101 = setup(data = class_train, target = 'Target', session_id=123, data_split_stratify = True, fold_strategy = 'stratifiedkfold', fix_imbalance = True, numeric_features = categorical_cols+numerical_cols)"
   ]
  },
  {
   "cell_type": "markdown",
   "metadata": {},
   "source": [
    "## 2.0 Comparing all models"
   ]
  },
  {
   "cell_type": "markdown",
   "metadata": {},
   "source": [
    "Comparing all models to evaluate performance is the recommended starting point for modeling once the setup is completed (unless you exactly know what kind of model you need, which is often not the case). This function trains all models in the model library and scores them using stratified cross validation for metric evaluation. The output prints a score grid that shows average Accuracy, AUC, Recall, Precision, F1, Kappa, and MCC accross the folds (10 by default) along with training times."
   ]
  },
  {
   "cell_type": "code",
   "execution_count": 15,
   "metadata": {},
   "outputs": [
    {
     "data": {
      "text/html": [
       "<div>\n",
       "<style scoped>\n",
       "    .dataframe tbody tr th:only-of-type {\n",
       "        vertical-align: middle;\n",
       "    }\n",
       "\n",
       "    .dataframe tbody tr th {\n",
       "        vertical-align: top;\n",
       "    }\n",
       "\n",
       "    .dataframe thead th {\n",
       "        text-align: right;\n",
       "    }\n",
       "</style>\n",
       "<table border=\"1\" class=\"dataframe\">\n",
       "  <thead>\n",
       "    <tr style=\"text-align: right;\">\n",
       "      <th></th>\n",
       "      <th>Name</th>\n",
       "      <th>Reference</th>\n",
       "      <th>Turbo</th>\n",
       "    </tr>\n",
       "    <tr>\n",
       "      <th>ID</th>\n",
       "      <th></th>\n",
       "      <th></th>\n",
       "      <th></th>\n",
       "    </tr>\n",
       "  </thead>\n",
       "  <tbody>\n",
       "    <tr>\n",
       "      <th>lr</th>\n",
       "      <td>Logistic Regression</td>\n",
       "      <td>sklearn.linear_model._logistic.LogisticRegression</td>\n",
       "      <td>True</td>\n",
       "    </tr>\n",
       "    <tr>\n",
       "      <th>knn</th>\n",
       "      <td>K Neighbors Classifier</td>\n",
       "      <td>sklearn.neighbors._classification.KNeighborsCl...</td>\n",
       "      <td>True</td>\n",
       "    </tr>\n",
       "    <tr>\n",
       "      <th>nb</th>\n",
       "      <td>Naive Bayes</td>\n",
       "      <td>sklearn.naive_bayes.GaussianNB</td>\n",
       "      <td>True</td>\n",
       "    </tr>\n",
       "    <tr>\n",
       "      <th>dt</th>\n",
       "      <td>Decision Tree Classifier</td>\n",
       "      <td>sklearn.tree._classes.DecisionTreeClassifier</td>\n",
       "      <td>True</td>\n",
       "    </tr>\n",
       "    <tr>\n",
       "      <th>svm</th>\n",
       "      <td>SVM - Linear Kernel</td>\n",
       "      <td>sklearn.linear_model._stochastic_gradient.SGDC...</td>\n",
       "      <td>True</td>\n",
       "    </tr>\n",
       "    <tr>\n",
       "      <th>rbfsvm</th>\n",
       "      <td>SVM - Radial Kernel</td>\n",
       "      <td>sklearn.svm._classes.SVC</td>\n",
       "      <td>False</td>\n",
       "    </tr>\n",
       "    <tr>\n",
       "      <th>gpc</th>\n",
       "      <td>Gaussian Process Classifier</td>\n",
       "      <td>sklearn.gaussian_process._gpc.GaussianProcessC...</td>\n",
       "      <td>False</td>\n",
       "    </tr>\n",
       "    <tr>\n",
       "      <th>mlp</th>\n",
       "      <td>MLP Classifier</td>\n",
       "      <td>sklearn.neural_network._multilayer_perceptron....</td>\n",
       "      <td>False</td>\n",
       "    </tr>\n",
       "    <tr>\n",
       "      <th>ridge</th>\n",
       "      <td>Ridge Classifier</td>\n",
       "      <td>sklearn.linear_model._ridge.RidgeClassifier</td>\n",
       "      <td>True</td>\n",
       "    </tr>\n",
       "    <tr>\n",
       "      <th>rf</th>\n",
       "      <td>Random Forest Classifier</td>\n",
       "      <td>sklearn.ensemble._forest.RandomForestClassifier</td>\n",
       "      <td>True</td>\n",
       "    </tr>\n",
       "    <tr>\n",
       "      <th>qda</th>\n",
       "      <td>Quadratic Discriminant Analysis</td>\n",
       "      <td>sklearn.discriminant_analysis.QuadraticDiscrim...</td>\n",
       "      <td>True</td>\n",
       "    </tr>\n",
       "    <tr>\n",
       "      <th>ada</th>\n",
       "      <td>Ada Boost Classifier</td>\n",
       "      <td>sklearn.ensemble._weight_boosting.AdaBoostClas...</td>\n",
       "      <td>True</td>\n",
       "    </tr>\n",
       "    <tr>\n",
       "      <th>gbc</th>\n",
       "      <td>Gradient Boosting Classifier</td>\n",
       "      <td>sklearn.ensemble._gb.GradientBoostingClassifier</td>\n",
       "      <td>True</td>\n",
       "    </tr>\n",
       "    <tr>\n",
       "      <th>lda</th>\n",
       "      <td>Linear Discriminant Analysis</td>\n",
       "      <td>sklearn.discriminant_analysis.LinearDiscrimina...</td>\n",
       "      <td>True</td>\n",
       "    </tr>\n",
       "    <tr>\n",
       "      <th>et</th>\n",
       "      <td>Extra Trees Classifier</td>\n",
       "      <td>sklearn.ensemble._forest.ExtraTreesClassifier</td>\n",
       "      <td>True</td>\n",
       "    </tr>\n",
       "    <tr>\n",
       "      <th>lightgbm</th>\n",
       "      <td>Light Gradient Boosting Machine</td>\n",
       "      <td>lightgbm.sklearn.LGBMClassifier</td>\n",
       "      <td>True</td>\n",
       "    </tr>\n",
       "  </tbody>\n",
       "</table>\n",
       "</div>"
      ],
      "text/plain": [
       "                                     Name  \\\n",
       "ID                                          \n",
       "lr                    Logistic Regression   \n",
       "knn                K Neighbors Classifier   \n",
       "nb                            Naive Bayes   \n",
       "dt               Decision Tree Classifier   \n",
       "svm                   SVM - Linear Kernel   \n",
       "rbfsvm                SVM - Radial Kernel   \n",
       "gpc           Gaussian Process Classifier   \n",
       "mlp                        MLP Classifier   \n",
       "ridge                    Ridge Classifier   \n",
       "rf               Random Forest Classifier   \n",
       "qda       Quadratic Discriminant Analysis   \n",
       "ada                  Ada Boost Classifier   \n",
       "gbc          Gradient Boosting Classifier   \n",
       "lda          Linear Discriminant Analysis   \n",
       "et                 Extra Trees Classifier   \n",
       "lightgbm  Light Gradient Boosting Machine   \n",
       "\n",
       "                                                  Reference  Turbo  \n",
       "ID                                                                  \n",
       "lr        sklearn.linear_model._logistic.LogisticRegression   True  \n",
       "knn       sklearn.neighbors._classification.KNeighborsCl...   True  \n",
       "nb                           sklearn.naive_bayes.GaussianNB   True  \n",
       "dt             sklearn.tree._classes.DecisionTreeClassifier   True  \n",
       "svm       sklearn.linear_model._stochastic_gradient.SGDC...   True  \n",
       "rbfsvm                             sklearn.svm._classes.SVC  False  \n",
       "gpc       sklearn.gaussian_process._gpc.GaussianProcessC...  False  \n",
       "mlp       sklearn.neural_network._multilayer_perceptron....  False  \n",
       "ridge           sklearn.linear_model._ridge.RidgeClassifier   True  \n",
       "rf          sklearn.ensemble._forest.RandomForestClassifier   True  \n",
       "qda       sklearn.discriminant_analysis.QuadraticDiscrim...   True  \n",
       "ada       sklearn.ensemble._weight_boosting.AdaBoostClas...   True  \n",
       "gbc         sklearn.ensemble._gb.GradientBoostingClassifier   True  \n",
       "lda       sklearn.discriminant_analysis.LinearDiscrimina...   True  \n",
       "et            sklearn.ensemble._forest.ExtraTreesClassifier   True  \n",
       "lightgbm                    lightgbm.sklearn.LGBMClassifier   True  "
      ]
     },
     "execution_count": 15,
     "metadata": {},
     "output_type": "execute_result"
    }
   ],
   "source": [
    "models()"
   ]
  },
  {
   "cell_type": "markdown",
   "metadata": {},
   "source": [
    "## Comparing models - Dont run if you have just one model, skip to next part"
   ]
  },
  {
   "cell_type": "code",
   "execution_count": 521,
   "metadata": {},
   "outputs": [],
   "source": [
    "# start_time = datetime.now()\n",
    "# best_model = compare_models(['lightgbm'])\n",
    "# end_time = datetime.now()\n",
    "# print('Duration: {}'.format(end_time - start_time))"
   ]
  },
  {
   "cell_type": "markdown",
   "metadata": {},
   "source": [
    "Two simple words of code (not even a line) have trained and evaluated over 15 models using cross validation. The score grid printed above highlights the highest performing metric for comparison purposes only. The grid by default is sorted using 'Accuracy' (highest to lowest) which can be changed by passing the sort parameter. For example compare_models(sort = 'Recall') will sort the grid by Recall instead of Accuracy. If you want to change the fold parameter from the default value of 10 to a different value then you can use the fold parameter. For example compare_models(fold = 5) will compare all models on 5 fold cross validation. Reducing the number of folds will improve the training time. By default, compare_models return the best performing model based on default sort order but can be used to return a list of top N models by using n_select parameter."
   ]
  },
  {
   "cell_type": "code",
   "execution_count": 522,
   "metadata": {},
   "outputs": [
    {
     "ename": "NameError",
     "evalue": "name 'best_model' is not defined",
     "output_type": "error",
     "traceback": [
      "\u001b[0;31m---------------------------------------------------------------------------\u001b[0m",
      "\u001b[0;31mNameError\u001b[0m                                 Traceback (most recent call last)",
      "\u001b[0;32m<ipython-input-522-31f1db9b5f44>\u001b[0m in \u001b[0;36m<module>\u001b[0;34m\u001b[0m\n\u001b[0;32m----> 1\u001b[0;31m \u001b[0mprint\u001b[0m\u001b[0;34m(\u001b[0m\u001b[0mbest_model\u001b[0m\u001b[0;34m)\u001b[0m\u001b[0;34m\u001b[0m\u001b[0;34m\u001b[0m\u001b[0m\n\u001b[0m",
      "\u001b[0;31mNameError\u001b[0m: name 'best_model' is not defined"
     ]
    }
   ],
   "source": [
    "print(best_model)"
   ]
  },
  {
   "cell_type": "markdown",
   "metadata": {},
   "source": [
    "## 3.0 Create a Model"
   ]
  },
  {
   "cell_type": "markdown",
   "metadata": {},
   "source": [
    "create_model is the most granular function in PyCaret and is often the foundation behind most of the PyCaret functionalities. As the name suggests this function trains and evaluates a model using cross validation that can be set with fold parameter. The output prints a score grid that shows Accuracy, AUC, Recall, Precision, F1, Kappa and MCC by fold.\n",
    "\n",
    "There are 18 classifiers available in the model library of PyCaret. To see list of all classifiers either check the docstring or use models function to see the library."
   ]
  },
  {
   "cell_type": "markdown",
   "metadata": {},
   "source": [
    "### 3.1 LGBM"
   ]
  },
  {
   "cell_type": "code",
   "execution_count": 556,
   "metadata": {},
   "outputs": [
    {
     "data": {
      "text/html": [
       "<style  type=\"text/css\" >\n",
       "#T_3ec38_row10_col0,#T_3ec38_row10_col1,#T_3ec38_row10_col2,#T_3ec38_row10_col3,#T_3ec38_row10_col4,#T_3ec38_row10_col5,#T_3ec38_row10_col6{\n",
       "            background:  yellow;\n",
       "        }</style><table id=\"T_3ec38_\" ><thead>    <tr>        <th class=\"blank level0\" ></th>        <th class=\"col_heading level0 col0\" >Accuracy</th>        <th class=\"col_heading level0 col1\" >AUC</th>        <th class=\"col_heading level0 col2\" >Recall</th>        <th class=\"col_heading level0 col3\" >Prec.</th>        <th class=\"col_heading level0 col4\" >F1</th>        <th class=\"col_heading level0 col5\" >Kappa</th>        <th class=\"col_heading level0 col6\" >MCC</th>    </tr></thead><tbody>\n",
       "                <tr>\n",
       "                        <th id=\"T_3ec38_level0_row0\" class=\"row_heading level0 row0\" >0</th>\n",
       "                        <td id=\"T_3ec38_row0_col0\" class=\"data row0 col0\" >0.9723</td>\n",
       "                        <td id=\"T_3ec38_row0_col1\" class=\"data row0 col1\" >0.9869</td>\n",
       "                        <td id=\"T_3ec38_row0_col2\" class=\"data row0 col2\" >0.8032</td>\n",
       "                        <td id=\"T_3ec38_row0_col3\" class=\"data row0 col3\" >0.6348</td>\n",
       "                        <td id=\"T_3ec38_row0_col4\" class=\"data row0 col4\" >0.7091</td>\n",
       "                        <td id=\"T_3ec38_row0_col5\" class=\"data row0 col5\" >0.6948</td>\n",
       "                        <td id=\"T_3ec38_row0_col6\" class=\"data row0 col6\" >0.7001</td>\n",
       "            </tr>\n",
       "            <tr>\n",
       "                        <th id=\"T_3ec38_level0_row1\" class=\"row_heading level0 row1\" >1</th>\n",
       "                        <td id=\"T_3ec38_row1_col0\" class=\"data row1 col0\" >0.9741</td>\n",
       "                        <td id=\"T_3ec38_row1_col1\" class=\"data row1 col1\" >0.9880</td>\n",
       "                        <td id=\"T_3ec38_row1_col2\" class=\"data row1 col2\" >0.8117</td>\n",
       "                        <td id=\"T_3ec38_row1_col3\" class=\"data row1 col3\" >0.6542</td>\n",
       "                        <td id=\"T_3ec38_row1_col4\" class=\"data row1 col4\" >0.7245</td>\n",
       "                        <td id=\"T_3ec38_row1_col5\" class=\"data row1 col5\" >0.7111</td>\n",
       "                        <td id=\"T_3ec38_row1_col6\" class=\"data row1 col6\" >0.7156</td>\n",
       "            </tr>\n",
       "            <tr>\n",
       "                        <th id=\"T_3ec38_level0_row2\" class=\"row_heading level0 row2\" >2</th>\n",
       "                        <td id=\"T_3ec38_row2_col0\" class=\"data row2 col0\" >0.9729</td>\n",
       "                        <td id=\"T_3ec38_row2_col1\" class=\"data row2 col1\" >0.9876</td>\n",
       "                        <td id=\"T_3ec38_row2_col2\" class=\"data row2 col2\" >0.8171</td>\n",
       "                        <td id=\"T_3ec38_row2_col3\" class=\"data row2 col3\" >0.6387</td>\n",
       "                        <td id=\"T_3ec38_row2_col4\" class=\"data row2 col4\" >0.7170</td>\n",
       "                        <td id=\"T_3ec38_row2_col5\" class=\"data row2 col5\" >0.7030</td>\n",
       "                        <td id=\"T_3ec38_row2_col6\" class=\"data row2 col6\" >0.7089</td>\n",
       "            </tr>\n",
       "            <tr>\n",
       "                        <th id=\"T_3ec38_level0_row3\" class=\"row_heading level0 row3\" >3</th>\n",
       "                        <td id=\"T_3ec38_row3_col0\" class=\"data row3 col0\" >0.9717</td>\n",
       "                        <td id=\"T_3ec38_row3_col1\" class=\"data row3 col1\" >0.9870</td>\n",
       "                        <td id=\"T_3ec38_row3_col2\" class=\"data row3 col2\" >0.8032</td>\n",
       "                        <td id=\"T_3ec38_row3_col3\" class=\"data row3 col3\" >0.6271</td>\n",
       "                        <td id=\"T_3ec38_row3_col4\" class=\"data row3 col4\" >0.7043</td>\n",
       "                        <td id=\"T_3ec38_row3_col5\" class=\"data row3 col5\" >0.6897</td>\n",
       "                        <td id=\"T_3ec38_row3_col6\" class=\"data row3 col6\" >0.6955</td>\n",
       "            </tr>\n",
       "            <tr>\n",
       "                        <th id=\"T_3ec38_level0_row4\" class=\"row_heading level0 row4\" >4</th>\n",
       "                        <td id=\"T_3ec38_row4_col0\" class=\"data row4 col0\" >0.9718</td>\n",
       "                        <td id=\"T_3ec38_row4_col1\" class=\"data row4 col1\" >0.9869</td>\n",
       "                        <td id=\"T_3ec38_row4_col2\" class=\"data row4 col2\" >0.7886</td>\n",
       "                        <td id=\"T_3ec38_row4_col3\" class=\"data row4 col3\" >0.6320</td>\n",
       "                        <td id=\"T_3ec38_row4_col4\" class=\"data row4 col4\" >0.7017</td>\n",
       "                        <td id=\"T_3ec38_row4_col5\" class=\"data row4 col5\" >0.6871</td>\n",
       "                        <td id=\"T_3ec38_row4_col6\" class=\"data row4 col6\" >0.6917</td>\n",
       "            </tr>\n",
       "            <tr>\n",
       "                        <th id=\"T_3ec38_level0_row5\" class=\"row_heading level0 row5\" >5</th>\n",
       "                        <td id=\"T_3ec38_row5_col0\" class=\"data row5 col0\" >0.9727</td>\n",
       "                        <td id=\"T_3ec38_row5_col1\" class=\"data row5 col1\" >0.9869</td>\n",
       "                        <td id=\"T_3ec38_row5_col2\" class=\"data row5 col2\" >0.8187</td>\n",
       "                        <td id=\"T_3ec38_row5_col3\" class=\"data row5 col3\" >0.6357</td>\n",
       "                        <td id=\"T_3ec38_row5_col4\" class=\"data row5 col4\" >0.7157</td>\n",
       "                        <td id=\"T_3ec38_row5_col5\" class=\"data row5 col5\" >0.7016</td>\n",
       "                        <td id=\"T_3ec38_row5_col6\" class=\"data row5 col6\" >0.7078</td>\n",
       "            </tr>\n",
       "            <tr>\n",
       "                        <th id=\"T_3ec38_level0_row6\" class=\"row_heading level0 row6\" >6</th>\n",
       "                        <td id=\"T_3ec38_row6_col0\" class=\"data row6 col0\" >0.9722</td>\n",
       "                        <td id=\"T_3ec38_row6_col1\" class=\"data row6 col1\" >0.9869</td>\n",
       "                        <td id=\"T_3ec38_row6_col2\" class=\"data row6 col2\" >0.8133</td>\n",
       "                        <td id=\"T_3ec38_row6_col3\" class=\"data row6 col3\" >0.6311</td>\n",
       "                        <td id=\"T_3ec38_row6_col4\" class=\"data row6 col4\" >0.7107</td>\n",
       "                        <td id=\"T_3ec38_row6_col5\" class=\"data row6 col5\" >0.6964</td>\n",
       "                        <td id=\"T_3ec38_row6_col6\" class=\"data row6 col6\" >0.7025</td>\n",
       "            </tr>\n",
       "            <tr>\n",
       "                        <th id=\"T_3ec38_level0_row7\" class=\"row_heading level0 row7\" >7</th>\n",
       "                        <td id=\"T_3ec38_row7_col0\" class=\"data row7 col0\" >0.9719</td>\n",
       "                        <td id=\"T_3ec38_row7_col1\" class=\"data row7 col1\" >0.9869</td>\n",
       "                        <td id=\"T_3ec38_row7_col2\" class=\"data row7 col2\" >0.8079</td>\n",
       "                        <td id=\"T_3ec38_row7_col3\" class=\"data row7 col3\" >0.6288</td>\n",
       "                        <td id=\"T_3ec38_row7_col4\" class=\"data row7 col4\" >0.7072</td>\n",
       "                        <td id=\"T_3ec38_row7_col5\" class=\"data row7 col5\" >0.6927</td>\n",
       "                        <td id=\"T_3ec38_row7_col6\" class=\"data row7 col6\" >0.6987</td>\n",
       "            </tr>\n",
       "            <tr>\n",
       "                        <th id=\"T_3ec38_level0_row8\" class=\"row_heading level0 row8\" >8</th>\n",
       "                        <td id=\"T_3ec38_row8_col0\" class=\"data row8 col0\" >0.9738</td>\n",
       "                        <td id=\"T_3ec38_row8_col1\" class=\"data row8 col1\" >0.9883</td>\n",
       "                        <td id=\"T_3ec38_row8_col2\" class=\"data row8 col2\" >0.8210</td>\n",
       "                        <td id=\"T_3ec38_row8_col3\" class=\"data row8 col3\" >0.6480</td>\n",
       "                        <td id=\"T_3ec38_row8_col4\" class=\"data row8 col4\" >0.7243</td>\n",
       "                        <td id=\"T_3ec38_row8_col5\" class=\"data row8 col5\" >0.7107</td>\n",
       "                        <td id=\"T_3ec38_row8_col6\" class=\"data row8 col6\" >0.7162</td>\n",
       "            </tr>\n",
       "            <tr>\n",
       "                        <th id=\"T_3ec38_level0_row9\" class=\"row_heading level0 row9\" >9</th>\n",
       "                        <td id=\"T_3ec38_row9_col0\" class=\"data row9 col0\" >0.9714</td>\n",
       "                        <td id=\"T_3ec38_row9_col1\" class=\"data row9 col1\" >0.9868</td>\n",
       "                        <td id=\"T_3ec38_row9_col2\" class=\"data row9 col2\" >0.8040</td>\n",
       "                        <td id=\"T_3ec38_row9_col3\" class=\"data row9 col3\" >0.6236</td>\n",
       "                        <td id=\"T_3ec38_row9_col4\" class=\"data row9 col4\" >0.7024</td>\n",
       "                        <td id=\"T_3ec38_row9_col5\" class=\"data row9 col5\" >0.6876</td>\n",
       "                        <td id=\"T_3ec38_row9_col6\" class=\"data row9 col6\" >0.6938</td>\n",
       "            </tr>\n",
       "            <tr>\n",
       "                        <th id=\"T_3ec38_level0_row10\" class=\"row_heading level0 row10\" >Mean</th>\n",
       "                        <td id=\"T_3ec38_row10_col0\" class=\"data row10 col0\" >0.9725</td>\n",
       "                        <td id=\"T_3ec38_row10_col1\" class=\"data row10 col1\" >0.9872</td>\n",
       "                        <td id=\"T_3ec38_row10_col2\" class=\"data row10 col2\" >0.8089</td>\n",
       "                        <td id=\"T_3ec38_row10_col3\" class=\"data row10 col3\" >0.6354</td>\n",
       "                        <td id=\"T_3ec38_row10_col4\" class=\"data row10 col4\" >0.7117</td>\n",
       "                        <td id=\"T_3ec38_row10_col5\" class=\"data row10 col5\" >0.6975</td>\n",
       "                        <td id=\"T_3ec38_row10_col6\" class=\"data row10 col6\" >0.7031</td>\n",
       "            </tr>\n",
       "            <tr>\n",
       "                        <th id=\"T_3ec38_level0_row11\" class=\"row_heading level0 row11\" >SD</th>\n",
       "                        <td id=\"T_3ec38_row11_col0\" class=\"data row11 col0\" >0.0008</td>\n",
       "                        <td id=\"T_3ec38_row11_col1\" class=\"data row11 col1\" >0.0005</td>\n",
       "                        <td id=\"T_3ec38_row11_col2\" class=\"data row11 col2\" >0.0092</td>\n",
       "                        <td id=\"T_3ec38_row11_col3\" class=\"data row11 col3\" >0.0090</td>\n",
       "                        <td id=\"T_3ec38_row11_col4\" class=\"data row11 col4\" >0.0080</td>\n",
       "                        <td id=\"T_3ec38_row11_col5\" class=\"data row11 col5\" >0.0084</td>\n",
       "                        <td id=\"T_3ec38_row11_col6\" class=\"data row11 col6\" >0.0083</td>\n",
       "            </tr>\n",
       "    </tbody></table>"
      ],
      "text/plain": [
       "<pandas.io.formats.style.Styler at 0x1340845b0>"
      ]
     },
     "metadata": {},
     "output_type": "display_data"
    }
   ],
   "source": [
    "lgbm = create_model('lightgbm')"
   ]
  },
  {
   "cell_type": "markdown",
   "metadata": {
    "tags": []
   },
   "source": [
    "#### Example for Hyperparameter Tuning on GPU with 3.2 XGBoost Classifier"
   ]
  },
  {
   "cell_type": "markdown",
   "metadata": {},
   "source": [
    "## 4. Tune a Model"
   ]
  },
  {
   "cell_type": "markdown",
   "metadata": {},
   "source": [
    "When a model is created using the create_model() function it uses the default hyperparameters to train the model. In order to tune hyperparameters, the tune_model() function is used. This function automatically tunes the hyperparameters of a model using Random Grid Search on a pre-defined search space. The output prints a score grid that shows Accuracy, AUC, Recall, Precision, F1, Kappa, and MCC by fold for the best model. To use the custom search grid, you can pass custom_grid parameter in the tune_model function (KNN tuning below)."
   ]
  },
  {
   "cell_type": "markdown",
   "metadata": {},
   "source": [
    "### 4.1 LGBM Tuning"
   ]
  },
  {
   "cell_type": "code",
   "execution_count": 96,
   "metadata": {},
   "outputs": [],
   "source": [
    "#tuned_lgbm = tune_model(lgbm)"
   ]
  },
  {
   "cell_type": "code",
   "execution_count": 97,
   "metadata": {},
   "outputs": [
    {
     "ename": "NameError",
     "evalue": "name 'tuned_lgbm' is not defined",
     "output_type": "error",
     "traceback": [
      "\u001b[0;31m---------------------------------------------------------------------------\u001b[0m",
      "\u001b[0;31mNameError\u001b[0m                                 Traceback (most recent call last)",
      "\u001b[0;32m<ipython-input-97-0433c9e405b8>\u001b[0m in \u001b[0;36m<module>\u001b[0;34m\u001b[0m\n\u001b[0;32m----> 1\u001b[0;31m \u001b[0mprint\u001b[0m\u001b[0;34m(\u001b[0m\u001b[0mtuned_lgbm\u001b[0m\u001b[0;34m)\u001b[0m\u001b[0;34m\u001b[0m\u001b[0;34m\u001b[0m\u001b[0m\n\u001b[0m",
      "\u001b[0;31mNameError\u001b[0m: name 'tuned_lgbm' is not defined"
     ]
    }
   ],
   "source": [
    "print(tuned_lgbm)"
   ]
  },
  {
   "cell_type": "markdown",
   "metadata": {},
   "source": [
    "### ..."
   ]
  },
  {
   "cell_type": "markdown",
   "metadata": {},
   "source": [
    "## 5. Plot a Model"
   ]
  },
  {
   "cell_type": "markdown",
   "metadata": {},
   "source": [
    "Before model finalization, the plot_model() function can be used to analyze the performance across different aspects such as AUC, confusion_matrix, decision boundary etc. This function takes a trained model object and returns a plot based on the test / hold-out set.\n",
    "\n",
    "There are 15 different plots available, please see the plot_model() docstring for the list of available plots."
   ]
  },
  {
   "cell_type": "markdown",
   "metadata": {},
   "source": [
    "### 5.1 AUC Plot"
   ]
  },
  {
   "cell_type": "code",
   "execution_count": 469,
   "metadata": {},
   "outputs": [
    {
     "data": {
      "image/png": "[encoded data removed]",
      "text/plain": [
       "<Figure size 576x396 with 1 Axes>"
      ]
     },
     "metadata": {},
     "output_type": "display_data"
    }
   ],
   "source": [
    "plot_model(lgbm, plot = 'auc')"
   ]
  },
  {
   "cell_type": "markdown",
   "metadata": {},
   "source": [
    "### 5.2 Precision-Recall Curve"
   ]
  },
  {
   "cell_type": "code",
   "execution_count": 470,
   "metadata": {},
   "outputs": [
    {
     "data": {
      "image/png": "[encoded data removed]",
      "text/plain": [
       "<Figure size 576x396 with 1 Axes>"
      ]
     },
     "metadata": {},
     "output_type": "display_data"
    }
   ],
   "source": [
    "plot_model(lgbm, plot = 'pr')"
   ]
  },
  {
   "cell_type": "markdown",
   "metadata": {},
   "source": [
    "### 5.3 Feature Importance Plot"
   ]
  },
  {
   "cell_type": "code",
   "execution_count": 557,
   "metadata": {},
   "outputs": [
    {
     "data": {
      "image/png": "[encoded data removed]",
      "text/plain": [
       "<Figure size 800x500 with 1 Axes>"
      ]
     },
     "metadata": {},
     "output_type": "display_data"
    }
   ],
   "source": [
    "plot_model(lgbm, plot='feature')"
   ]
  },
  {
   "cell_type": "markdown",
   "metadata": {},
   "source": [
    "### 5.4 Confusion Matrix"
   ]
  },
  {
   "cell_type": "code",
   "execution_count": 537,
   "metadata": {},
   "outputs": [
    {
     "data": {
      "image/png": "[encoded data removed]",
      "text/plain": [
       "<Figure size 576x396 with 1 Axes>"
      ]
     },
     "metadata": {},
     "output_type": "display_data"
    }
   ],
   "source": [
    "plot_model(lgbm, plot = 'confusion_matrix')"
   ]
  },
  {
   "cell_type": "markdown",
   "metadata": {},
   "source": [
    "Another way to analyze the performance of models is to use the evaluate_model() function which displays a user interface for all of the available plots for a given model. It internally uses the plot_model() function."
   ]
  },
  {
   "cell_type": "code",
   "execution_count": 473,
   "metadata": {},
   "outputs": [],
   "source": [
    "#evaluate_model(lgbm)"
   ]
  },
  {
   "cell_type": "markdown",
   "metadata": {},
   "source": [
    "## 6 Predict on test / hold-out Sample"
   ]
  },
  {
   "cell_type": "markdown",
   "metadata": {},
   "source": [
    "Before finalizing the model, it is advisable to perform one final check by predicting the test/hold-out set and reviewing the evaluation metrics. Now, using our final trained model stored in the tuned_rf variable we will predict against the hold-out sample and evaluate the metrics to see if they are materially different than the CV results."
   ]
  },
  {
   "cell_type": "code",
   "execution_count": 558,
   "metadata": {},
   "outputs": [
    {
     "data": {
      "text/html": [
       "<style  type=\"text/css\" >\n",
       "</style><table id=\"T_543e9_\" ><thead>    <tr>        <th class=\"blank level0\" ></th>        <th class=\"col_heading level0 col0\" >Model</th>        <th class=\"col_heading level0 col1\" >Accuracy</th>        <th class=\"col_heading level0 col2\" >AUC</th>        <th class=\"col_heading level0 col3\" >Recall</th>        <th class=\"col_heading level0 col4\" >Prec.</th>        <th class=\"col_heading level0 col5\" >F1</th>        <th class=\"col_heading level0 col6\" >Kappa</th>        <th class=\"col_heading level0 col7\" >MCC</th>    </tr></thead><tbody>\n",
       "                <tr>\n",
       "                        <th id=\"T_543e9_level0_row0\" class=\"row_heading level0 row0\" >0</th>\n",
       "                        <td id=\"T_543e9_row0_col0\" class=\"data row0 col0\" >Light Gradient Boosting Machine</td>\n",
       "                        <td id=\"T_543e9_row0_col1\" class=\"data row0 col1\" >0.9725</td>\n",
       "                        <td id=\"T_543e9_row0_col2\" class=\"data row0 col2\" >0.9868</td>\n",
       "                        <td id=\"T_543e9_row0_col3\" class=\"data row0 col3\" >0.8073</td>\n",
       "                        <td id=\"T_543e9_row0_col4\" class=\"data row0 col4\" >0.6356</td>\n",
       "                        <td id=\"T_543e9_row0_col5\" class=\"data row0 col5\" >0.7112</td>\n",
       "                        <td id=\"T_543e9_row0_col6\" class=\"data row0 col6\" >0.6970</td>\n",
       "                        <td id=\"T_543e9_row0_col7\" class=\"data row0 col7\" >0.7025</td>\n",
       "            </tr>\n",
       "    </tbody></table>"
      ],
      "text/plain": [
       "<pandas.io.formats.style.Styler at 0x135139dc0>"
      ]
     },
     "metadata": {},
     "output_type": "display_data"
    },
    {
     "data": {
      "text/html": [
       "<div>\n",
       "<style scoped>\n",
       "    .dataframe tbody tr th:only-of-type {\n",
       "        vertical-align: middle;\n",
       "    }\n",
       "\n",
       "    .dataframe tbody tr th {\n",
       "        vertical-align: top;\n",
       "    }\n",
       "\n",
       "    .dataframe thead th {\n",
       "        text-align: right;\n",
       "    }\n",
       "</style>\n",
       "<table border=\"1\" class=\"dataframe\">\n",
       "  <thead>\n",
       "    <tr style=\"text-align: right;\">\n",
       "      <th></th>\n",
       "      <th>channelGrouping</th>\n",
       "      <th>device.browser</th>\n",
       "      <th>device.operatingSystem</th>\n",
       "      <th>geoNetwork.city</th>\n",
       "      <th>geoNetwork.country</th>\n",
       "      <th>geoNetwork.networkDomain</th>\n",
       "      <th>geoNetwork.region</th>\n",
       "      <th>trafficSource.adContent</th>\n",
       "      <th>trafficSource.campaign</th>\n",
       "      <th>trafficSource.isTrueDirect</th>\n",
       "      <th>...</th>\n",
       "      <th>totals.hits</th>\n",
       "      <th>totals.newVisits</th>\n",
       "      <th>totals.pageviews</th>\n",
       "      <th>Week</th>\n",
       "      <th>Month</th>\n",
       "      <th>hits_mean_city</th>\n",
       "      <th>pageviews_mean_city</th>\n",
       "      <th>Target</th>\n",
       "      <th>Label</th>\n",
       "      <th>Score</th>\n",
       "    </tr>\n",
       "  </thead>\n",
       "  <tbody>\n",
       "    <tr>\n",
       "      <th>0</th>\n",
       "      <td>4.0</td>\n",
       "      <td>102.0</td>\n",
       "      <td>25.0</td>\n",
       "      <td>266.0</td>\n",
       "      <td>219.0</td>\n",
       "      <td>0.0</td>\n",
       "      <td>462.0</td>\n",
       "      <td>48.0</td>\n",
       "      <td>4.0</td>\n",
       "      <td>0.0</td>\n",
       "      <td>...</td>\n",
       "      <td>3.0</td>\n",
       "      <td>1.0</td>\n",
       "      <td>3.0</td>\n",
       "      <td>48.0</td>\n",
       "      <td>11.0</td>\n",
       "      <td>4.0</td>\n",
       "      <td>3.0</td>\n",
       "      <td>0</td>\n",
       "      <td>0</td>\n",
       "      <td>0.9999</td>\n",
       "    </tr>\n",
       "    <tr>\n",
       "      <th>1</th>\n",
       "      <td>4.0</td>\n",
       "      <td>63.0</td>\n",
       "      <td>22.0</td>\n",
       "      <td>1096.0</td>\n",
       "      <td>12.0</td>\n",
       "      <td>22141.0</td>\n",
       "      <td>517.0</td>\n",
       "      <td>48.0</td>\n",
       "      <td>4.0</td>\n",
       "      <td>0.0</td>\n",
       "      <td>...</td>\n",
       "      <td>2.0</td>\n",
       "      <td>1.0</td>\n",
       "      <td>2.0</td>\n",
       "      <td>5.0</td>\n",
       "      <td>2.0</td>\n",
       "      <td>4.0</td>\n",
       "      <td>3.0</td>\n",
       "      <td>0</td>\n",
       "      <td>0</td>\n",
       "      <td>0.9999</td>\n",
       "    </tr>\n",
       "    <tr>\n",
       "      <th>2</th>\n",
       "      <td>4.0</td>\n",
       "      <td>55.0</td>\n",
       "      <td>22.0</td>\n",
       "      <td>830.0</td>\n",
       "      <td>144.0</td>\n",
       "      <td>19269.0</td>\n",
       "      <td>420.0</td>\n",
       "      <td>48.0</td>\n",
       "      <td>4.0</td>\n",
       "      <td>0.0</td>\n",
       "      <td>...</td>\n",
       "      <td>1.0</td>\n",
       "      <td>1.0</td>\n",
       "      <td>1.0</td>\n",
       "      <td>45.0</td>\n",
       "      <td>11.0</td>\n",
       "      <td>8.0</td>\n",
       "      <td>6.0</td>\n",
       "      <td>0</td>\n",
       "      <td>0</td>\n",
       "      <td>0.9999</td>\n",
       "    </tr>\n",
       "    <tr>\n",
       "      <th>3</th>\n",
       "      <td>4.0</td>\n",
       "      <td>55.0</td>\n",
       "      <td>22.0</td>\n",
       "      <td>994.0</td>\n",
       "      <td>36.0</td>\n",
       "      <td>41382.0</td>\n",
       "      <td>327.0</td>\n",
       "      <td>48.0</td>\n",
       "      <td>4.0</td>\n",
       "      <td>0.0</td>\n",
       "      <td>...</td>\n",
       "      <td>17.0</td>\n",
       "      <td>1.0</td>\n",
       "      <td>14.0</td>\n",
       "      <td>46.0</td>\n",
       "      <td>11.0</td>\n",
       "      <td>5.0</td>\n",
       "      <td>4.0</td>\n",
       "      <td>0</td>\n",
       "      <td>0</td>\n",
       "      <td>0.9771</td>\n",
       "    </tr>\n",
       "    <tr>\n",
       "      <th>4</th>\n",
       "      <td>4.0</td>\n",
       "      <td>104.0</td>\n",
       "      <td>1.0</td>\n",
       "      <td>441.0</td>\n",
       "      <td>94.0</td>\n",
       "      <td>44691.0</td>\n",
       "      <td>212.0</td>\n",
       "      <td>48.0</td>\n",
       "      <td>4.0</td>\n",
       "      <td>0.0</td>\n",
       "      <td>...</td>\n",
       "      <td>1.0</td>\n",
       "      <td>1.0</td>\n",
       "      <td>1.0</td>\n",
       "      <td>48.0</td>\n",
       "      <td>11.0</td>\n",
       "      <td>2.0</td>\n",
       "      <td>2.0</td>\n",
       "      <td>0</td>\n",
       "      <td>0</td>\n",
       "      <td>0.9999</td>\n",
       "    </tr>\n",
       "    <tr>\n",
       "      <th>...</th>\n",
       "      <td>...</td>\n",
       "      <td>...</td>\n",
       "      <td>...</td>\n",
       "      <td>...</td>\n",
       "      <td>...</td>\n",
       "      <td>...</td>\n",
       "      <td>...</td>\n",
       "      <td>...</td>\n",
       "      <td>...</td>\n",
       "      <td>...</td>\n",
       "      <td>...</td>\n",
       "      <td>...</td>\n",
       "      <td>...</td>\n",
       "      <td>...</td>\n",
       "      <td>...</td>\n",
       "      <td>...</td>\n",
       "      <td>...</td>\n",
       "      <td>...</td>\n",
       "      <td>...</td>\n",
       "      <td>...</td>\n",
       "      <td>...</td>\n",
       "    </tr>\n",
       "    <tr>\n",
       "      <th>132287</th>\n",
       "      <td>4.0</td>\n",
       "      <td>64.0</td>\n",
       "      <td>1.0</td>\n",
       "      <td>1096.0</td>\n",
       "      <td>53.0</td>\n",
       "      <td>18521.0</td>\n",
       "      <td>517.0</td>\n",
       "      <td>48.0</td>\n",
       "      <td>4.0</td>\n",
       "      <td>0.0</td>\n",
       "      <td>...</td>\n",
       "      <td>4.0</td>\n",
       "      <td>1.0</td>\n",
       "      <td>3.0</td>\n",
       "      <td>39.0</td>\n",
       "      <td>10.0</td>\n",
       "      <td>4.0</td>\n",
       "      <td>3.0</td>\n",
       "      <td>0</td>\n",
       "      <td>0</td>\n",
       "      <td>0.9999</td>\n",
       "    </tr>\n",
       "    <tr>\n",
       "      <th>132288</th>\n",
       "      <td>2.0</td>\n",
       "      <td>55.0</td>\n",
       "      <td>1.0</td>\n",
       "      <td>1096.0</td>\n",
       "      <td>93.0</td>\n",
       "      <td>0.0</td>\n",
       "      <td>517.0</td>\n",
       "      <td>48.0</td>\n",
       "      <td>4.0</td>\n",
       "      <td>1.0</td>\n",
       "      <td>...</td>\n",
       "      <td>1.0</td>\n",
       "      <td>0.0</td>\n",
       "      <td>1.0</td>\n",
       "      <td>23.0</td>\n",
       "      <td>6.0</td>\n",
       "      <td>4.0</td>\n",
       "      <td>3.0</td>\n",
       "      <td>0</td>\n",
       "      <td>0</td>\n",
       "      <td>0.9999</td>\n",
       "    </tr>\n",
       "    <tr>\n",
       "      <th>132289</th>\n",
       "      <td>4.0</td>\n",
       "      <td>55.0</td>\n",
       "      <td>22.0</td>\n",
       "      <td>1096.0</td>\n",
       "      <td>102.0</td>\n",
       "      <td>18642.0</td>\n",
       "      <td>517.0</td>\n",
       "      <td>48.0</td>\n",
       "      <td>4.0</td>\n",
       "      <td>0.0</td>\n",
       "      <td>...</td>\n",
       "      <td>6.0</td>\n",
       "      <td>0.0</td>\n",
       "      <td>3.0</td>\n",
       "      <td>20.0</td>\n",
       "      <td>5.0</td>\n",
       "      <td>4.0</td>\n",
       "      <td>3.0</td>\n",
       "      <td>0</td>\n",
       "      <td>0</td>\n",
       "      <td>0.9999</td>\n",
       "    </tr>\n",
       "    <tr>\n",
       "      <th>132290</th>\n",
       "      <td>4.0</td>\n",
       "      <td>55.0</td>\n",
       "      <td>1.0</td>\n",
       "      <td>893.0</td>\n",
       "      <td>219.0</td>\n",
       "      <td>0.0</td>\n",
       "      <td>502.0</td>\n",
       "      <td>48.0</td>\n",
       "      <td>4.0</td>\n",
       "      <td>0.0</td>\n",
       "      <td>...</td>\n",
       "      <td>3.0</td>\n",
       "      <td>1.0</td>\n",
       "      <td>3.0</td>\n",
       "      <td>45.0</td>\n",
       "      <td>11.0</td>\n",
       "      <td>6.0</td>\n",
       "      <td>5.0</td>\n",
       "      <td>0</td>\n",
       "      <td>0</td>\n",
       "      <td>0.9999</td>\n",
       "    </tr>\n",
       "    <tr>\n",
       "      <th>132291</th>\n",
       "      <td>4.0</td>\n",
       "      <td>102.0</td>\n",
       "      <td>25.0</td>\n",
       "      <td>664.0</td>\n",
       "      <td>219.0</td>\n",
       "      <td>0.0</td>\n",
       "      <td>304.0</td>\n",
       "      <td>48.0</td>\n",
       "      <td>4.0</td>\n",
       "      <td>0.0</td>\n",
       "      <td>...</td>\n",
       "      <td>1.0</td>\n",
       "      <td>1.0</td>\n",
       "      <td>1.0</td>\n",
       "      <td>44.0</td>\n",
       "      <td>10.0</td>\n",
       "      <td>7.0</td>\n",
       "      <td>5.0</td>\n",
       "      <td>0</td>\n",
       "      <td>0</td>\n",
       "      <td>0.9999</td>\n",
       "    </tr>\n",
       "  </tbody>\n",
       "</table>\n",
       "<p>132292 rows × 27 columns</p>\n",
       "</div>"
      ],
      "text/plain": [
       "        channelGrouping  device.browser  device.operatingSystem  \\\n",
       "0                   4.0           102.0                    25.0   \n",
       "1                   4.0            63.0                    22.0   \n",
       "2                   4.0            55.0                    22.0   \n",
       "3                   4.0            55.0                    22.0   \n",
       "4                   4.0           104.0                     1.0   \n",
       "...                 ...             ...                     ...   \n",
       "132287              4.0            64.0                     1.0   \n",
       "132288              2.0            55.0                     1.0   \n",
       "132289              4.0            55.0                    22.0   \n",
       "132290              4.0            55.0                     1.0   \n",
       "132291              4.0           102.0                    25.0   \n",
       "\n",
       "        geoNetwork.city  geoNetwork.country  geoNetwork.networkDomain  \\\n",
       "0                 266.0               219.0                       0.0   \n",
       "1                1096.0                12.0                   22141.0   \n",
       "2                 830.0               144.0                   19269.0   \n",
       "3                 994.0                36.0                   41382.0   \n",
       "4                 441.0                94.0                   44691.0   \n",
       "...                 ...                 ...                       ...   \n",
       "132287           1096.0                53.0                   18521.0   \n",
       "132288           1096.0                93.0                       0.0   \n",
       "132289           1096.0               102.0                   18642.0   \n",
       "132290            893.0               219.0                       0.0   \n",
       "132291            664.0               219.0                       0.0   \n",
       "\n",
       "        geoNetwork.region  trafficSource.adContent  trafficSource.campaign  \\\n",
       "0                   462.0                     48.0                     4.0   \n",
       "1                   517.0                     48.0                     4.0   \n",
       "2                   420.0                     48.0                     4.0   \n",
       "3                   327.0                     48.0                     4.0   \n",
       "4                   212.0                     48.0                     4.0   \n",
       "...                   ...                      ...                     ...   \n",
       "132287              517.0                     48.0                     4.0   \n",
       "132288              517.0                     48.0                     4.0   \n",
       "132289              517.0                     48.0                     4.0   \n",
       "132290              502.0                     48.0                     4.0   \n",
       "132291              304.0                     48.0                     4.0   \n",
       "\n",
       "        trafficSource.isTrueDirect  ...  totals.hits  totals.newVisits  \\\n",
       "0                              0.0  ...          3.0               1.0   \n",
       "1                              0.0  ...          2.0               1.0   \n",
       "2                              0.0  ...          1.0               1.0   \n",
       "3                              0.0  ...         17.0               1.0   \n",
       "4                              0.0  ...          1.0               1.0   \n",
       "...                            ...  ...          ...               ...   \n",
       "132287                         0.0  ...          4.0               1.0   \n",
       "132288                         1.0  ...          1.0               0.0   \n",
       "132289                         0.0  ...          6.0               0.0   \n",
       "132290                         0.0  ...          3.0               1.0   \n",
       "132291                         0.0  ...          1.0               1.0   \n",
       "\n",
       "        totals.pageviews  Week  Month  hits_mean_city  pageviews_mean_city  \\\n",
       "0                    3.0  48.0   11.0             4.0                  3.0   \n",
       "1                    2.0   5.0    2.0             4.0                  3.0   \n",
       "2                    1.0  45.0   11.0             8.0                  6.0   \n",
       "3                   14.0  46.0   11.0             5.0                  4.0   \n",
       "4                    1.0  48.0   11.0             2.0                  2.0   \n",
       "...                  ...   ...    ...             ...                  ...   \n",
       "132287               3.0  39.0   10.0             4.0                  3.0   \n",
       "132288               1.0  23.0    6.0             4.0                  3.0   \n",
       "132289               3.0  20.0    5.0             4.0                  3.0   \n",
       "132290               3.0  45.0   11.0             6.0                  5.0   \n",
       "132291               1.0  44.0   10.0             7.0                  5.0   \n",
       "\n",
       "        Target  Label   Score  \n",
       "0            0      0  0.9999  \n",
       "1            0      0  0.9999  \n",
       "2            0      0  0.9999  \n",
       "3            0      0  0.9771  \n",
       "4            0      0  0.9999  \n",
       "...        ...    ...     ...  \n",
       "132287       0      0  0.9999  \n",
       "132288       0      0  0.9999  \n",
       "132289       0      0  0.9999  \n",
       "132290       0      0  0.9999  \n",
       "132291       0      0  0.9999  \n",
       "\n",
       "[132292 rows x 27 columns]"
      ]
     },
     "execution_count": 558,
     "metadata": {},
     "output_type": "execute_result"
    }
   ],
   "source": [
    "predict_model(lgbm) # use tuned_lgbm"
   ]
  },
  {
   "cell_type": "markdown",
   "metadata": {},
   "source": [
    "## 7 Finalize Model for Deplyoment"
   ]
  },
  {
   "cell_type": "markdown",
   "metadata": {},
   "source": [
    "Model finalization is the last step in the experiment. A normal machine learning workflow in PyCaret starts with setup(), followed by comparing all models using compare_models() and shortlisting a few candidate models (based on the metric of interest) to perform several modeling techniques such as hyperparameter tuning, ensembling, stacking etc. This workflow will eventually lead you to the best model for use in making predictions on new and unseen data. The finalize_model() function fits the model onto the complete dataset including the test/hold-out sample (30% in this case). The purpose of this function is to train the model on the complete dataset before it is deployed in production."
   ]
  },
  {
   "cell_type": "code",
   "execution_count": 559,
   "metadata": {},
   "outputs": [],
   "source": [
    "final_lgbm = finalize_model(lgbm) # use tuned lgbm"
   ]
  },
  {
   "cell_type": "code",
   "execution_count": 476,
   "metadata": {},
   "outputs": [
    {
     "name": "stdout",
     "output_type": "stream",
     "text": [
      "LGBMClassifier(boosting_type='gbdt', class_weight=None, colsample_bytree=1.0,\n",
      "               importance_type='split', learning_rate=0.1, max_depth=-1,\n",
      "               min_child_samples=20, min_child_weight=0.001, min_split_gain=0.0,\n",
      "               n_estimators=100, n_jobs=-1, num_leaves=31, objective=None,\n",
      "               random_state=123, reg_alpha=0.0, reg_lambda=0.0, silent=True,\n",
      "               subsample=1.0, subsample_for_bin=200000, subsample_freq=0)\n"
     ]
    }
   ],
   "source": [
    "# Final Random Forest model parameters for deployment\n",
    "print(final_lgbm)"
   ]
  },
  {
   "cell_type": "markdown",
   "metadata": {},
   "source": [
    "Caution: One final word of caution. Once the model is finalized using finalize_model(), the entire dataset including the test/hold-out set is used for training. As such, if the model is used for predictions on the hold-out set after finalize_model() is used, the information grid printed will be misleading as you are trying to predict on the same data that was used for modeling."
   ]
  },
  {
   "cell_type": "code",
   "execution_count": 560,
   "metadata": {},
   "outputs": [
    {
     "data": {
      "text/html": [
       "<style  type=\"text/css\" >\n",
       "</style><table id=\"T_46547_\" ><thead>    <tr>        <th class=\"blank level0\" ></th>        <th class=\"col_heading level0 col0\" >Model</th>        <th class=\"col_heading level0 col1\" >Accuracy</th>        <th class=\"col_heading level0 col2\" >AUC</th>        <th class=\"col_heading level0 col3\" >Recall</th>        <th class=\"col_heading level0 col4\" >Prec.</th>        <th class=\"col_heading level0 col5\" >F1</th>        <th class=\"col_heading level0 col6\" >Kappa</th>        <th class=\"col_heading level0 col7\" >MCC</th>    </tr></thead><tbody>\n",
       "                <tr>\n",
       "                        <th id=\"T_46547_level0_row0\" class=\"row_heading level0 row0\" >0</th>\n",
       "                        <td id=\"T_46547_row0_col0\" class=\"data row0 col0\" >Light Gradient Boosting Machine</td>\n",
       "                        <td id=\"T_46547_row0_col1\" class=\"data row0 col1\" >0.9729</td>\n",
       "                        <td id=\"T_46547_row0_col2\" class=\"data row0 col2\" >0.9871</td>\n",
       "                        <td id=\"T_46547_row0_col3\" class=\"data row0 col3\" >0.8257</td>\n",
       "                        <td id=\"T_46547_row0_col4\" class=\"data row0 col4\" >0.6361</td>\n",
       "                        <td id=\"T_46547_row0_col5\" class=\"data row0 col5\" >0.7186</td>\n",
       "                        <td id=\"T_46547_row0_col6\" class=\"data row0 col6\" >0.7046</td>\n",
       "                        <td id=\"T_46547_row0_col7\" class=\"data row0 col7\" >0.7113</td>\n",
       "            </tr>\n",
       "    </tbody></table>"
      ],
      "text/plain": [
       "<pandas.io.formats.style.Styler at 0x13cccee80>"
      ]
     },
     "metadata": {},
     "output_type": "display_data"
    }
   ],
   "source": [
    "predict_model(final_lgbm);"
   ]
  },
  {
   "cell_type": "markdown",
   "metadata": {},
   "source": [
    "Notice how the AUC in final_rf has increased to 0.xxxx from 0.xxxx, even though the model is the same. This is because the final_rf variable has been trained on the complete dataset including the test/hold-out set."
   ]
  },
  {
   "cell_type": "markdown",
   "metadata": {},
   "source": [
    "## 8. Predict on unseen data"
   ]
  },
  {
   "cell_type": "markdown",
   "metadata": {},
   "source": [
    "The predict_model() function is also used to predict on the unseen dataset. The only difference from section 6 above is that this time we will pass the data_unseen parameter. data_unseen is the variable created at the beginning of the tutorial and contains 5% (xxxxx samples) of the original dataset which was never exposed to PyCaret."
   ]
  },
  {
   "cell_type": "code",
   "execution_count": 561,
   "metadata": {},
   "outputs": [],
   "source": [
    "unseen_predictions = predict_model(lgbm, data=data_unseen)"
   ]
  },
  {
   "cell_type": "code",
   "execution_count": 562,
   "metadata": {},
   "outputs": [],
   "source": [
    "#unseen_predictions.Label.describe()\n",
    "#unseen_predictions.head()"
   ]
  },
  {
   "cell_type": "markdown",
   "metadata": {},
   "source": [
    "The Label and Score columns are added onto the data_unseen set. Label is the prediction and score is the probability of the prediction. Notice that predicted results are concatenated to the original dataset while all the transformations are automatically performed in the background. You can also check the metrics on this since you have actual target column default available. To do that we will use pycaret.utils module. See example below:"
   ]
  },
  {
   "cell_type": "code",
   "execution_count": 563,
   "metadata": {},
   "outputs": [
    {
     "data": {
      "text/plain": [
       "0.914"
      ]
     },
     "execution_count": 563,
     "metadata": {},
     "output_type": "execute_result"
    }
   ],
   "source": [
    "check_metric(unseen_predictions['Target'], unseen_predictions['Label'], metric = 'Recall')"
   ]
  },
  {
   "cell_type": "markdown",
   "metadata": {},
   "source": [
    "## 9. Saving the model"
   ]
  },
  {
   "cell_type": "markdown",
   "metadata": {},
   "source": [
    "We have now finished the experiment by finalizing the tuned_rf model which is now stored in final_rf variable. We have also used the model stored in final_rf to predict data_unseen. This brings us to the end of our experiment, but one question is still to be asked: What happens when you have more new data to predict? Do you have to go through the entire experiment again? The answer is no, PyCaret's inbuilt function save_model() allows you to save the model along with entire transformation pipeline for later use."
   ]
  },
  {
   "cell_type": "code",
   "execution_count": 481,
   "metadata": {},
   "outputs": [
    {
     "name": "stdout",
     "output_type": "stream",
     "text": [
      "Transformation Pipeline and Model Succesfully Saved\n"
     ]
    },
    {
     "data": {
      "text/plain": [
       "(Pipeline(memory=None,\n",
       "          steps=[('dtypes',\n",
       "                  DataTypes_Auto_infer(categorical_features=[],\n",
       "                                       display_types=True, features_todrop=[],\n",
       "                                       id_columns=[],\n",
       "                                       ml_usecase='classification',\n",
       "                                       numerical_features=['channelGrouping',\n",
       "                                                           'device.browser',\n",
       "                                                           'device.operatingSystem',\n",
       "                                                           'geoNetwork.city',\n",
       "                                                           'geoNetwork.country',\n",
       "                                                           'geoNetwork.networkDomain',\n",
       "                                                           'geoNetwork.region',\n",
       "                                                           'trafficSource.adCont...\n",
       "                  LGBMClassifier(boosting_type='gbdt', class_weight=None,\n",
       "                                 colsample_bytree=1.0, importance_type='split',\n",
       "                                 learning_rate=0.1, max_depth=-1,\n",
       "                                 min_child_samples=20, min_child_weight=0.001,\n",
       "                                 min_split_gain=0.0, n_estimators=100, n_jobs=-1,\n",
       "                                 num_leaves=31, objective=None, random_state=123,\n",
       "                                 reg_alpha=0.0, reg_lambda=0.0, silent=True,\n",
       "                                 subsample=1.0, subsample_for_bin=200000,\n",
       "                                 subsample_freq=0)]],\n",
       "          verbose=False),\n",
       " 'model/Class_lgbm_Model_17042021.pkl')"
      ]
     },
     "execution_count": 481,
     "metadata": {},
     "output_type": "execute_result"
    }
   ],
   "source": [
    "save_model(final_lgbm,'model/Class_lgbm_Model_{}'.format(d1))"
   ]
  },
  {
   "cell_type": "markdown",
   "metadata": {},
   "source": [
    "## 10. Loading the saved model"
   ]
  },
  {
   "cell_type": "markdown",
   "metadata": {},
   "source": [
    "To load a saved model at a future date in the same or an alternative environment, we would use PyCaret's load_model() function and then easily apply the saved model on new unseen data for prediction."
   ]
  },
  {
   "cell_type": "code",
   "execution_count": 538,
   "metadata": {},
   "outputs": [
    {
     "name": "stdout",
     "output_type": "stream",
     "text": [
      "Transformation Pipeline and Model Successfully Loaded\n"
     ]
    }
   ],
   "source": [
    "saved_final_nb = load_model('model/Class_lgbm_Model_{}'.format(d1))"
   ]
  },
  {
   "cell_type": "code",
   "execution_count": 541,
   "metadata": {},
   "outputs": [
    {
     "data": {
      "image/png": "[encoded data removed]",
      "text/plain": [
       "<Figure size 576x396 with 1 Axes>"
      ]
     },
     "metadata": {},
     "output_type": "display_data"
    }
   ],
   "source": [
    "plot_model(final_lgbm, plot='confusion_matrix')"
   ]
  },
  {
   "cell_type": "markdown",
   "metadata": {},
   "source": [
    "## Finally - Exporting the Classfication Label"
   ]
  },
  {
   "cell_type": "code",
   "execution_count": 564,
   "metadata": {},
   "outputs": [
    {
     "data": {
      "text/plain": [
       "0    0\n",
       "1    0\n",
       "2    0\n",
       "3    0\n",
       "4    0\n",
       "Name: Label, dtype: int64"
      ]
     },
     "execution_count": 564,
     "metadata": {},
     "output_type": "execute_result"
    }
   ],
   "source": [
    "sub_class = unseen_predictions['Label']\n",
    "sub_class.head()"
   ]
  },
  {
   "cell_type": "code",
   "execution_count": 565,
   "metadata": {},
   "outputs": [],
   "source": [
    "sub_class.to_csv(\"model/sub_class.csv\",index=False)"
   ]
  },
  {
   "cell_type": "code",
   "execution_count": 566,
   "metadata": {},
   "outputs": [
    {
     "data": {
      "text/html": [
       "<div>\n",
       "<style scoped>\n",
       "    .dataframe tbody tr th:only-of-type {\n",
       "        vertical-align: middle;\n",
       "    }\n",
       "\n",
       "    .dataframe tbody tr th {\n",
       "        vertical-align: top;\n",
       "    }\n",
       "\n",
       "    .dataframe thead th {\n",
       "        text-align: right;\n",
       "    }\n",
       "</style>\n",
       "<table border=\"1\" class=\"dataframe\">\n",
       "  <thead>\n",
       "    <tr style=\"text-align: right;\">\n",
       "      <th></th>\n",
       "      <th>Label</th>\n",
       "    </tr>\n",
       "  </thead>\n",
       "  <tbody>\n",
       "    <tr>\n",
       "      <th>0</th>\n",
       "      <td>0</td>\n",
       "    </tr>\n",
       "    <tr>\n",
       "      <th>1</th>\n",
       "      <td>0</td>\n",
       "    </tr>\n",
       "    <tr>\n",
       "      <th>2</th>\n",
       "      <td>0</td>\n",
       "    </tr>\n",
       "    <tr>\n",
       "      <th>3</th>\n",
       "      <td>0</td>\n",
       "    </tr>\n",
       "    <tr>\n",
       "      <th>4</th>\n",
       "      <td>0</td>\n",
       "    </tr>\n",
       "    <tr>\n",
       "      <th>...</th>\n",
       "      <td>...</td>\n",
       "    </tr>\n",
       "    <tr>\n",
       "      <th>401584</th>\n",
       "      <td>0</td>\n",
       "    </tr>\n",
       "    <tr>\n",
       "      <th>401585</th>\n",
       "      <td>0</td>\n",
       "    </tr>\n",
       "    <tr>\n",
       "      <th>401586</th>\n",
       "      <td>0</td>\n",
       "    </tr>\n",
       "    <tr>\n",
       "      <th>401587</th>\n",
       "      <td>0</td>\n",
       "    </tr>\n",
       "    <tr>\n",
       "      <th>401588</th>\n",
       "      <td>0</td>\n",
       "    </tr>\n",
       "  </tbody>\n",
       "</table>\n",
       "<p>401589 rows × 1 columns</p>\n",
       "</div>"
      ],
      "text/plain": [
       "        Label\n",
       "0           0\n",
       "1           0\n",
       "2           0\n",
       "3           0\n",
       "4           0\n",
       "...       ...\n",
       "401584      0\n",
       "401585      0\n",
       "401586      0\n",
       "401587      0\n",
       "401588      0\n",
       "\n",
       "[401589 rows x 1 columns]"
      ]
     },
     "execution_count": 566,
     "metadata": {},
     "output_type": "execute_result"
    }
   ],
   "source": [
    "pd.read_csv(\"model/sub_class.csv\")"
   ]
  },
  {
   "cell_type": "markdown",
   "metadata": {},
   "source": [
    "Once the model is loaded in the environment, you can simply use it to predict on any new data using the same predict_model() function. Below we have applied the loaded model to predict the same data_unseen that we used in section 8 above."
   ]
  }
 ],
 "metadata": {
  "kernelspec": {
   "display_name": "Python 3",
   "language": "python",
   "name": "python3"
  },
  "language_info": {
   "codemirror_mode": {
    "name": "ipython",
    "version": 3
   },
   "file_extension": ".py",
   "mimetype": "text/x-python",
   "name": "python",
   "nbconvert_exporter": "python",
   "pygments_lexer": "ipython3",
   "version": "3.8.5"
  },
  "metadata": {
   "interpreter": {
    "hash": "242d87ea343fc6f7ba14f33c453c706201dc06349769965212905296918c8b6c"
   }
  }
 },
 "nbformat": 4,
 "nbformat_minor": 4
}